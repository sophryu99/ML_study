{
 "cells": [
  {
   "cell_type": "markdown",
   "metadata": {},
   "source": [
    "# Introduction to NLP and Word2Vec\n",
    "- CS224N: NLP and Deep learning Stanford\n",
    "- Lecture1"
   ]
  },
  {
   "cell_type": "markdown",
   "metadata": {},
   "source": [
    "**Q. How do we have usable meaning in a computer?**\n",
    "\n",
    "- Common solution: Use e.g. WordNet, a thesarus containing lists of synonym sets and hypernyms"
   ]
  },
  {
   "cell_type": "markdown",
   "metadata": {},
   "source": [
    "Representing words as discrete symbols\n",
    "- In traditional NLP, we regard words as discrete symbols:\n",
    "- e.g. hotel, conference, motel - a localist representation\n",
    "\n",
    "Words can be represented by one-hot vectors:\n",
    "\n",
    "```motel = [0 0 0 0 0 0 0 1 0 0 0]``` \\\n",
    "```hotel = [0 0 0 0 0 1 0 0 0 0 0]```\n"
   ]
  },
  {
   "cell_type": "code",
   "execution_count": 2,
   "metadata": {},
   "outputs": [
    {
     "data": {
      "text/plain": [
       "[Synset('procyonid.n.01'),\n",
       " Synset('carnivore.n.01'),\n",
       " Synset('placental.n.01'),\n",
       " Synset('mammal.n.01'),\n",
       " Synset('vertebrate.n.01'),\n",
       " Synset('chordate.n.01'),\n",
       " Synset('animal.n.01'),\n",
       " Synset('organism.n.01'),\n",
       " Synset('living_thing.n.01'),\n",
       " Synset('whole.n.02'),\n",
       " Synset('object.n.01'),\n",
       " Synset('physical_entity.n.01'),\n",
       " Synset('entity.n.01')]"
      ]
     },
     "execution_count": 2,
     "metadata": {},
     "output_type": "execute_result"
    }
   ],
   "source": [
    "from nltk.corpus import wordnet as wn\n",
    "panda = wn.synset(\"panda.n.01\")\n",
    "hyper= lambda s: s.hypernyms()\n",
    "list(panda.closure(hyper))"
   ]
  },
  {
   "cell_type": "markdown",
   "metadata": {},
   "source": [
    "### Representing words by their context\n",
    "- Distributional semantics: A word's meaning is given by the words that frequently appear close-by\n",
    "- When a word w appears in a text, its context is the set of words that appear nearby\n",
    "- Use the many contexts of w to build up a representation of w"
   ]
  },
  {
   "cell_type": "markdown",
   "metadata": {},
   "source": [
    "### Word Vectors\n",
    "- We will build a dense vector for each word, chosen so that it is similar to vectors of words that appear in similar contexts\n",
    "- Word vectors are sometimes called **word embeddings** or **word representations**. They are a distributed representation. "
   ]
  },
  {
   "cell_type": "code",
   "execution_count": null,
   "metadata": {},
   "outputs": [],
   "source": []
  }
 ],
 "metadata": {
  "kernelspec": {
   "display_name": "Python 3",
   "language": "python",
   "name": "python3"
  },
  "language_info": {
   "codemirror_mode": {
    "name": "ipython",
    "version": 3
   },
   "file_extension": ".py",
   "mimetype": "text/x-python",
   "name": "python",
   "nbconvert_exporter": "python",
   "pygments_lexer": "ipython3",
   "version": "3.8.5"
  }
 },
 "nbformat": 4,
 "nbformat_minor": 4
}
