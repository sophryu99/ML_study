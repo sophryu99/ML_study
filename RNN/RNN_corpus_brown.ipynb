{
 "cells": [
  {
   "cell_type": "markdown",
   "id": "occupied-count",
   "metadata": {},
   "source": [
    "## RNN HW"
   ]
  },
  {
   "cell_type": "markdown",
   "id": "twelve-deputy",
   "metadata": {},
   "source": [
    "Brown (nltk.corpus) data \n",
    "\n",
    "Fitting & Evaluation on\n",
    "- Vanilla RNN model\n",
    "- LSTM\n",
    "- bidirectional LSTM"
   ]
  },
  {
   "cell_type": "code",
   "execution_count": 19,
   "id": "global-berkeley",
   "metadata": {},
   "outputs": [],
   "source": [
    "import warnings\n",
    "warnings.filterwarnings(\"ignore\")\n",
    "\n",
    "import numpy as np\n",
    "\n",
    "from matplotlib import pyplot as plt\n",
    "\n",
    "import nltk\n",
    "\n",
    "import seaborn as sns\n",
    "\n",
    "from gensim.models import KeyedVectors #pip install : for word2vec\n",
    "\n",
    "from keras.preprocessing.sequence import pad_sequences\n",
    "from keras.utils.np_utils import to_categorical\n",
    "from keras.models import Sequential\n",
    "from keras.layers import Embedding\n",
    "from keras.layers import Dense, Input\n",
    "from keras.layers import TimeDistributed\n",
    "from keras.layers import LSTM, GRU, Bidirectional, SimpleRNN, RNN\n",
    "from keras.models import Model\n",
    "from keras.preprocessing.text import Tokenizer\n",
    "\n",
    "from sklearn.model_selection import train_test_split\n",
    "from sklearn.utils import shuffle"
   ]
  },
  {
   "cell_type": "code",
   "execution_count": 6,
   "id": "economic-inspection",
   "metadata": {},
   "outputs": [
    {
     "name": "stdout",
     "output_type": "stream",
     "text": [
      "showing info https://raw.githubusercontent.com/nltk/nltk_data/gh-pages/index.xml\n"
     ]
    },
    {
     "data": {
      "text/plain": [
       "True"
      ]
     },
     "execution_count": 6,
     "metadata": {},
     "output_type": "execute_result"
    }
   ],
   "source": [
    "nltk.download()"
   ]
  },
  {
   "cell_type": "code",
   "execution_count": 20,
   "id": "bored-solution",
   "metadata": {},
   "outputs": [
    {
     "data": {
      "text/plain": [
       "['The', 'Fulton', 'County', 'Grand', 'Jury', 'said', ...]"
      ]
     },
     "execution_count": 20,
     "metadata": {},
     "output_type": "execute_result"
    }
   ],
   "source": [
    "from nltk.corpus import brown\n",
    "brown.words()"
   ]
  },
  {
   "cell_type": "code",
   "execution_count": 21,
   "id": "amber-madrid",
   "metadata": {},
   "outputs": [
    {
     "data": {
      "text/plain": [
       "[('The', 'DET'),\n",
       " ('Fulton', 'NOUN'),\n",
       " ('County', 'NOUN'),\n",
       " ('Grand', 'ADJ'),\n",
       " ('Jury', 'NOUN'),\n",
       " ('said', 'VERB'),\n",
       " ('Friday', 'NOUN'),\n",
       " ('an', 'DET'),\n",
       " ('investigation', 'NOUN'),\n",
       " ('of', 'ADP'),\n",
       " (\"Atlanta's\", 'NOUN'),\n",
       " ('recent', 'ADJ'),\n",
       " ('primary', 'NOUN'),\n",
       " ('election', 'NOUN'),\n",
       " ('produced', 'VERB'),\n",
       " ('``', '.'),\n",
       " ('no', 'DET'),\n",
       " ('evidence', 'NOUN'),\n",
       " (\"''\", '.'),\n",
       " ('that', 'ADP'),\n",
       " ('any', 'DET'),\n",
       " ('irregularities', 'NOUN'),\n",
       " ('took', 'VERB'),\n",
       " ('place', 'NOUN'),\n",
       " ('.', '.')]"
      ]
     },
     "execution_count": 21,
     "metadata": {},
     "output_type": "execute_result"
    }
   ],
   "source": [
    "brown_corpus = brown.tagged_sents(tagset=\"universal\")\n",
    "tagged_sentences = brown_corpus\n",
    "tagged_sentences[0]"
   ]
  },
  {
   "cell_type": "code",
   "execution_count": 22,
   "id": "expensive-compilation",
   "metadata": {},
   "outputs": [],
   "source": [
    "#Divide data into sentences(X) and tags(Y)\n",
    "X = [] # store input sequence\n",
    "Y = [] # store output sequence\n",
    "\n",
    "for sentence in tagged_sentences:\n",
    "    X_sentence = []\n",
    "    Y_sentence = []\n",
    "    for entity in sentence:         \n",
    "        X_sentence.append(entity[0])  # entity[0] contains the word\n",
    "        Y_sentence.append(entity[1])  # entity[1] contains corresponding tag\n",
    "        \n",
    "    X.append(X_sentence)\n",
    "    Y.append(Y_sentence)"
   ]
  },
  {
   "cell_type": "code",
   "execution_count": 23,
   "id": "addressed-stewart",
   "metadata": {},
   "outputs": [],
   "source": [
    "num_words = len(set([word.lower() for sentence in X for word in sentence]))\n",
    "num_tags = len(set([word.lower() for sentence in Y for word in sentence]))"
   ]
  },
  {
   "cell_type": "code",
   "execution_count": 24,
   "id": "operational-boring",
   "metadata": {},
   "outputs": [
    {
     "name": "stdout",
     "output_type": "stream",
     "text": [
      "Total number of tagged sentences: 57340\n",
      "Vocabulary size: 49815\n",
      "Total number of tags: 12\n"
     ]
    }
   ],
   "source": [
    "print(\"Total number of tagged sentences: {}\".format(len(X)))\n",
    "print(\"Vocabulary size: {}\".format(num_words))\n",
    "print(\"Total number of tags: {}\".format(num_tags))"
   ]
  },
  {
   "cell_type": "code",
   "execution_count": 25,
   "id": "careful-national",
   "metadata": {},
   "outputs": [
    {
     "name": "stdout",
     "output_type": "stream",
     "text": [
      "sample X:  ['The', 'Fulton', 'County', 'Grand', 'Jury', 'said', 'Friday', 'an', 'investigation', 'of', \"Atlanta's\", 'recent', 'primary', 'election', 'produced', '``', 'no', 'evidence', \"''\", 'that', 'any', 'irregularities', 'took', 'place', '.'] \n",
      "\n",
      "sample Y:  ['DET', 'NOUN', 'NOUN', 'ADJ', 'NOUN', 'VERB', 'NOUN', 'DET', 'NOUN', 'ADP', 'NOUN', 'ADJ', 'NOUN', 'NOUN', 'VERB', '.', 'DET', 'NOUN', '.', 'ADP', 'DET', 'NOUN', 'VERB', 'NOUN', '.']\n"
     ]
    }
   ],
   "source": [
    "# let's look at first data point\n",
    "# this is one data point that will be fed to the RNN\n",
    "print('sample X: ', X[0], '\\n')\n",
    "print('sample Y: ', Y[0], )"
   ]
  },
  {
   "cell_type": "code",
   "execution_count": 26,
   "id": "abstract-democracy",
   "metadata": {},
   "outputs": [
    {
     "name": "stdout",
     "output_type": "stream",
     "text": [
      "Length of first input sequence  : 25\n",
      "Length of first output sequence : 25\n"
     ]
    }
   ],
   "source": [
    "# In this many-to-many problem, the length of each input and output sequence must be the same.\n",
    "# Since each word is tagged, it's important to make sure that the length of input sequence equals the output sequence\n",
    "print(\"Length of first input sequence  : {}\".format(len(X[0])))\n",
    "print(\"Length of first output sequence : {}\".format(len(Y[0])))"
   ]
  },
  {
   "cell_type": "markdown",
   "id": "labeled-point",
   "metadata": {},
   "source": [
    "### X and Y encoding"
   ]
  },
  {
   "cell_type": "code",
   "execution_count": 27,
   "id": "prompt-metropolitan",
   "metadata": {},
   "outputs": [
    {
     "name": "stdout",
     "output_type": "stream",
     "text": [
      "## Raw data point ## \n",
      " ---------------------------------------------------------------------------------------------------- \n",
      "\n",
      "X:  ['The', 'Fulton', 'County', 'Grand', 'Jury', 'said', 'Friday', 'an', 'investigation', 'of', \"Atlanta's\", 'recent', 'primary', 'election', 'produced', '``', 'no', 'evidence', \"''\", 'that', 'any', 'irregularities', 'took', 'place', '.'] \n",
      "\n",
      "Y:  ['DET', 'NOUN', 'NOUN', 'ADJ', 'NOUN', 'VERB', 'NOUN', 'DET', 'NOUN', 'ADP', 'NOUN', 'ADJ', 'NOUN', 'NOUN', 'VERB', '.', 'DET', 'NOUN', '.', 'ADP', 'DET', 'NOUN', 'VERB', 'NOUN', '.'] \n",
      "\n",
      "\n",
      "## Encoded data point ## \n",
      " ---------------------------------------------------------------------------------------------------- \n",
      "\n",
      "X:  [1, 5433, 651, 2296, 1634, 62, 1846, 35, 2177, 4, 14222, 551, 1120, 1401, 1193, 14, 59, 473, 15, 9, 85, 9199, 213, 171, 3] \n",
      "\n",
      "Y:  [5, 1, 1, 6, 1, 2, 1, 5, 1, 4, 1, 6, 1, 1, 2, 3, 5, 1, 3, 4, 5, 1, 2, 1, 3] \n",
      "\n"
     ]
    }
   ],
   "source": [
    "word_tokenizer = Tokenizer()                     \n",
    "word_tokenizer.fit_on_texts(X)                    # fit tokeniser on data\n",
    "X_encoded = word_tokenizer.texts_to_sequences(X)  # use the tokeniser to encode input sequence\n",
    "\n",
    "tag_tokenizer = Tokenizer()\n",
    "tag_tokenizer.fit_on_texts(Y)\n",
    "Y_encoded = tag_tokenizer.texts_to_sequences(Y)\n",
    "\n",
    "print(\"## Raw data point ##\", \"\\n\", \"-\"*100, \"\\n\")\n",
    "print('X: ', X[0], '\\n')\n",
    "print('Y: ', Y[0], '\\n')\n",
    "print()\n",
    "print(\"## Encoded data point ##\", \"\\n\", \"-\"*100, \"\\n\")\n",
    "print('X: ', X_encoded[0], '\\n')\n",
    "print('Y: ', Y_encoded[0], '\\n')"
   ]
  },
  {
   "cell_type": "markdown",
   "id": "quarterly-castle",
   "metadata": {},
   "source": [
    "### Pad encoded sequences"
   ]
  },
  {
   "cell_type": "code",
   "execution_count": 28,
   "id": "premier-flash",
   "metadata": {},
   "outputs": [
    {
     "name": "stdout",
     "output_type": "stream",
     "text": [
      "Length of longest sentence: 180\n",
      "Length of shortest sentence: 1\n"
     ]
    }
   ],
   "source": [
    "lengths = [len(seq) for seq in X_encoded]\n",
    "print(\"Length of longest sentence: {}\".format(max(lengths)))\n",
    "print(\"Length of shortest sentence: {}\".format(min(lengths)))"
   ]
  },
  {
   "cell_type": "code",
   "execution_count": 29,
   "id": "injured-devon",
   "metadata": {},
   "outputs": [],
   "source": [
    "# Truncation and padding can either be 'pre' or 'post'. \n",
    "# For padding we are using 'pre' padding type, that is, add zeroes on the left side.\n",
    "# For truncation, we are using 'post', that is, truncate a sentence from right side.\n",
    "\n",
    "\n",
    "MAX_SEQ_LENGTH = 100  # sequences greater than 100 in length will be truncated\n",
    "\n",
    "X_padded = pad_sequences(X_encoded, maxlen=MAX_SEQ_LENGTH, padding=\"pre\", truncating=\"post\")\n",
    "Y_padded = pad_sequences(Y_encoded, maxlen=MAX_SEQ_LENGTH, padding=\"pre\", truncating=\"post\")"
   ]
  },
  {
   "cell_type": "code",
   "execution_count": 30,
   "id": "arctic-quarterly",
   "metadata": {},
   "outputs": [
    {
     "name": "stdout",
     "output_type": "stream",
     "text": [
      "[1, 5433, 651, 2296, 1634, 62, 1846, 35, 2177, 4, 14222, 551, 1120, 1401, 1193, 14, 59, 473, 15, 9, 85, 9199, 213, 171, 3] \n",
      "\n",
      "[    0     0     0     0     0     0     0     0     0     0     0     0\n",
      "     0     0     0     0     0     0     0     0     0     0     0     0\n",
      "     0     0     0     0     0     0     0     0     0     0     0     0\n",
      "     0     0     0     0     0     0     0     0     0     0     0     0\n",
      "     0     0     0     0     0     0     0     0     0     0     0     0\n",
      "     0     0     0     0     0     0     0     0     0     0     0     0\n",
      "     0     0     0     1  5433   651  2296  1634    62  1846    35  2177\n",
      "     4 14222   551  1120  1401  1193    14    59   473    15     9    85\n",
      "  9199   213   171     3] \n",
      "\n",
      "[5, 1, 1, 6, 1, 2, 1, 5, 1, 4, 1, 6, 1, 1, 2, 3, 5, 1, 3, 4, 5, 1, 2, 1, 3] \n",
      "\n",
      "[0 0 0 0 0 0 0 0 0 0 0 0 0 0 0 0 0 0 0 0 0 0 0 0 0 0 0 0 0 0 0 0 0 0 0 0 0\n",
      " 0 0 0 0 0 0 0 0 0 0 0 0 0 0 0 0 0 0 0 0 0 0 0 0 0 0 0 0 0 0 0 0 0 0 0 0 0\n",
      " 0 5 1 1 6 1 2 1 5 1 4 1 6 1 1 2 3 5 1 3 4 5 1 2 1 3]\n"
     ]
    }
   ],
   "source": [
    "print(X_encoded[0],\"\\n\")\n",
    "print(X_padded[0], \"\\n\")\n",
    "print(Y_encoded[0],\"\\n\")\n",
    "print(Y_padded[0])"
   ]
  },
  {
   "cell_type": "code",
   "execution_count": 31,
   "id": "imperial-inspector",
   "metadata": {},
   "outputs": [],
   "source": [
    "X, Y = X_padded, Y_padded"
   ]
  },
  {
   "cell_type": "code",
   "execution_count": 32,
   "id": "apparent-audit",
   "metadata": {},
   "outputs": [
    {
     "name": "stdout",
     "output_type": "stream",
     "text": [
      "(57340, 100)\n",
      "(57340, 100)\n"
     ]
    }
   ],
   "source": [
    "print(X.shape)\n",
    "print(Y.shape)"
   ]
  },
  {
   "cell_type": "markdown",
   "id": "early-enemy",
   "metadata": {},
   "source": [
    "## Word Embeddings"
   ]
  },
  {
   "cell_type": "code",
   "execution_count": 15,
   "id": "periodic-transparency",
   "metadata": {},
   "outputs": [],
   "source": [
    "#Use word2vec as pretrained data from GoogleNews\n",
    "path = \"https://s3.amazonaws.com/dl4j-distribution/GoogleNews-vectors-negative300.bin.gz\"\n",
    "# load word2vec using the following function present in the gensim library\n",
    "word2vec = KeyedVectors.load_word2vec_format(path, binary=True) #binary=TRUE for word2vec embedding"
   ]
  },
  {
   "cell_type": "code",
   "execution_count": 16,
   "id": "activated-kentucky",
   "metadata": {
    "collapsed": true,
    "jupyter": {
     "outputs_hidden": true
    }
   },
   "outputs": [
    {
     "ename": "KeyboardInterrupt",
     "evalue": "",
     "output_type": "error",
     "traceback": [
      "\u001b[0;31m---------------------------------------------------------------------------\u001b[0m",
      "\u001b[0;31mKeyboardInterrupt\u001b[0m                         Traceback (most recent call last)",
      "\u001b[0;32m<ipython-input-16-5329c675003a>\u001b[0m in \u001b[0;36m<module>\u001b[0;34m\u001b[0m\n\u001b[0;32m----> 1\u001b[0;31m \u001b[0mword2vec\u001b[0m\u001b[0;34m.\u001b[0m\u001b[0mmost_similar\u001b[0m\u001b[0;34m(\u001b[0m\u001b[0mpositive\u001b[0m \u001b[0;34m=\u001b[0m \u001b[0;34m[\u001b[0m\u001b[0;34m\"King\"\u001b[0m\u001b[0;34m,\u001b[0m \u001b[0;34m\"Woman\"\u001b[0m\u001b[0;34m]\u001b[0m\u001b[0;34m,\u001b[0m \u001b[0mnegative\u001b[0m \u001b[0;34m=\u001b[0m \u001b[0;34m[\u001b[0m\u001b[0;34m\"Man\"\u001b[0m\u001b[0;34m]\u001b[0m\u001b[0;34m,\u001b[0m\u001b[0mtopn\u001b[0m\u001b[0;34m=\u001b[0m\u001b[0;36m1\u001b[0m\u001b[0;34m)\u001b[0m\u001b[0;34m\u001b[0m\u001b[0;34m\u001b[0m\u001b[0m\n\u001b[0m",
      "\u001b[0;32m~/opt/anaconda3/envs/env_pytorch/lib/python3.6/site-packages/gensim/models/keyedvectors.py\u001b[0m in \u001b[0;36mmost_similar\u001b[0;34m(self, positive, negative, topn, restrict_vocab, indexer)\u001b[0m\n\u001b[1;32m    529\u001b[0m             \u001b[0mnegative\u001b[0m \u001b[0;34m=\u001b[0m \u001b[0;34m[\u001b[0m\u001b[0;34m]\u001b[0m\u001b[0;34m\u001b[0m\u001b[0;34m\u001b[0m\u001b[0m\n\u001b[1;32m    530\u001b[0m \u001b[0;34m\u001b[0m\u001b[0m\n\u001b[0;32m--> 531\u001b[0;31m         \u001b[0mself\u001b[0m\u001b[0;34m.\u001b[0m\u001b[0minit_sims\u001b[0m\u001b[0;34m(\u001b[0m\u001b[0;34m)\u001b[0m\u001b[0;34m\u001b[0m\u001b[0;34m\u001b[0m\u001b[0m\n\u001b[0m\u001b[1;32m    532\u001b[0m \u001b[0;34m\u001b[0m\u001b[0m\n\u001b[1;32m    533\u001b[0m         \u001b[0;32mif\u001b[0m \u001b[0misinstance\u001b[0m\u001b[0;34m(\u001b[0m\u001b[0mpositive\u001b[0m\u001b[0;34m,\u001b[0m \u001b[0mstring_types\u001b[0m\u001b[0;34m)\u001b[0m \u001b[0;32mand\u001b[0m \u001b[0;32mnot\u001b[0m \u001b[0mnegative\u001b[0m\u001b[0;34m:\u001b[0m\u001b[0;34m\u001b[0m\u001b[0;34m\u001b[0m\u001b[0m\n",
      "\u001b[0;32m~/opt/anaconda3/envs/env_pytorch/lib/python3.6/site-packages/gensim/models/keyedvectors.py\u001b[0m in \u001b[0;36minit_sims\u001b[0;34m(self, replace)\u001b[0m\n\u001b[1;32m   1352\u001b[0m         \u001b[0;32mif\u001b[0m \u001b[0mgetattr\u001b[0m\u001b[0;34m(\u001b[0m\u001b[0mself\u001b[0m\u001b[0;34m,\u001b[0m \u001b[0;34m'vectors_norm'\u001b[0m\u001b[0;34m,\u001b[0m \u001b[0;32mNone\u001b[0m\u001b[0;34m)\u001b[0m \u001b[0;32mis\u001b[0m \u001b[0;32mNone\u001b[0m \u001b[0;32mor\u001b[0m \u001b[0mreplace\u001b[0m\u001b[0;34m:\u001b[0m\u001b[0;34m\u001b[0m\u001b[0;34m\u001b[0m\u001b[0m\n\u001b[1;32m   1353\u001b[0m             \u001b[0mlogger\u001b[0m\u001b[0;34m.\u001b[0m\u001b[0minfo\u001b[0m\u001b[0;34m(\u001b[0m\u001b[0;34m\"precomputing L2-norms of word weight vectors\"\u001b[0m\u001b[0;34m)\u001b[0m\u001b[0;34m\u001b[0m\u001b[0;34m\u001b[0m\u001b[0m\n\u001b[0;32m-> 1354\u001b[0;31m             \u001b[0mself\u001b[0m\u001b[0;34m.\u001b[0m\u001b[0mvectors_norm\u001b[0m \u001b[0;34m=\u001b[0m \u001b[0m_l2_norm\u001b[0m\u001b[0;34m(\u001b[0m\u001b[0mself\u001b[0m\u001b[0;34m.\u001b[0m\u001b[0mvectors\u001b[0m\u001b[0;34m,\u001b[0m \u001b[0mreplace\u001b[0m\u001b[0;34m=\u001b[0m\u001b[0mreplace\u001b[0m\u001b[0;34m)\u001b[0m\u001b[0;34m\u001b[0m\u001b[0;34m\u001b[0m\u001b[0m\n\u001b[0m\u001b[1;32m   1355\u001b[0m \u001b[0;34m\u001b[0m\u001b[0m\n\u001b[1;32m   1356\u001b[0m     \u001b[0;32mdef\u001b[0m \u001b[0mrelative_cosine_similarity\u001b[0m\u001b[0;34m(\u001b[0m\u001b[0mself\u001b[0m\u001b[0;34m,\u001b[0m \u001b[0mwa\u001b[0m\u001b[0;34m,\u001b[0m \u001b[0mwb\u001b[0m\u001b[0;34m,\u001b[0m \u001b[0mtopn\u001b[0m\u001b[0;34m=\u001b[0m\u001b[0;36m10\u001b[0m\u001b[0;34m)\u001b[0m\u001b[0;34m:\u001b[0m\u001b[0;34m\u001b[0m\u001b[0;34m\u001b[0m\u001b[0m\n",
      "\u001b[0;32m~/opt/anaconda3/envs/env_pytorch/lib/python3.6/site-packages/gensim/models/keyedvectors.py\u001b[0m in \u001b[0;36m_l2_norm\u001b[0;34m(m, replace)\u001b[0m\n\u001b[1;32m   2382\u001b[0m \u001b[0;34m\u001b[0m\u001b[0m\n\u001b[1;32m   2383\u001b[0m     \"\"\"\n\u001b[0;32m-> 2384\u001b[0;31m     \u001b[0mdist\u001b[0m \u001b[0;34m=\u001b[0m \u001b[0msqrt\u001b[0m\u001b[0;34m(\u001b[0m\u001b[0;34m(\u001b[0m\u001b[0mm\u001b[0m \u001b[0;34m**\u001b[0m \u001b[0;36m2\u001b[0m\u001b[0;34m)\u001b[0m\u001b[0;34m.\u001b[0m\u001b[0msum\u001b[0m\u001b[0;34m(\u001b[0m\u001b[0;34m-\u001b[0m\u001b[0;36m1\u001b[0m\u001b[0;34m)\u001b[0m\u001b[0;34m)\u001b[0m\u001b[0;34m[\u001b[0m\u001b[0;34m...\u001b[0m\u001b[0;34m,\u001b[0m \u001b[0mnewaxis\u001b[0m\u001b[0;34m]\u001b[0m\u001b[0;34m\u001b[0m\u001b[0;34m\u001b[0m\u001b[0m\n\u001b[0m\u001b[1;32m   2385\u001b[0m     \u001b[0;32mif\u001b[0m \u001b[0mreplace\u001b[0m\u001b[0;34m:\u001b[0m\u001b[0;34m\u001b[0m\u001b[0;34m\u001b[0m\u001b[0m\n\u001b[1;32m   2386\u001b[0m         \u001b[0mm\u001b[0m \u001b[0;34m/=\u001b[0m \u001b[0mdist\u001b[0m\u001b[0;34m\u001b[0m\u001b[0;34m\u001b[0m\u001b[0m\n",
      "\u001b[0;31mKeyboardInterrupt\u001b[0m: "
     ]
    }
   ],
   "source": [
    "word2vec.most_similar(positive = [\"King\", \"Woman\"], negative = [\"Man\"],topn=1)"
   ]
  },
  {
   "cell_type": "code",
   "execution_count": null,
   "id": "ceramic-proportion",
   "metadata": {},
   "outputs": [],
   "source": [
    "word2vec.most_similar(positive = [\"Queen\", \"Man\"], negative = [\"Woman\"],topn=1)\n"
   ]
  },
  {
   "cell_type": "code",
   "execution_count": 33,
   "id": "placed-infrastructure",
   "metadata": {},
   "outputs": [],
   "source": [
    "EMBEDDING_SIZE  = 300  #embedding (hidden) size = 300으로 설정 : hyperparameter이지만 word2vec의 dimension에 맞추어 조정\n",
    "VOCABULARY_SIZE = len(word_tokenizer.word_index) + 1 #첫번째 index가 0로 할당되므로 +1해주어야함"
   ]
  },
  {
   "cell_type": "code",
   "execution_count": 35,
   "id": "interim-family",
   "metadata": {},
   "outputs": [],
   "source": [
    "# create an empty embedding matix\n",
    "embedding_weights = np.zeros((VOCABULARY_SIZE, EMBEDDING_SIZE))\n",
    "\n",
    "# create a word to index dictionary mapping\n",
    "word2id = word_tokenizer.word_index\n",
    "\n",
    "# copy vectors from word2vec model to the words present in corpus\n",
    "for word, index in word2id.items():\n",
    "    try:\n",
    "        embedding_weights[index, :] = word2vec[word]\n",
    "    except KeyError:\n",
    "        pass"
   ]
  },
  {
   "cell_type": "code",
   "execution_count": 36,
   "id": "hybrid-checklist",
   "metadata": {
    "collapsed": true,
    "jupyter": {
     "outputs_hidden": true
    }
   },
   "outputs": [
    {
     "data": {
      "text/plain": [
       "{'the': 1,\n",
       " ',': 2,\n",
       " '.': 3,\n",
       " 'of': 4,\n",
       " 'and': 5,\n",
       " 'to': 6,\n",
       " 'a': 7,\n",
       " 'in': 8,\n",
       " 'that': 9,\n",
       " 'is': 10,\n",
       " 'was': 11,\n",
       " 'he': 12,\n",
       " 'for': 13,\n",
       " '``': 14,\n",
       " \"''\": 15,\n",
       " 'it': 16,\n",
       " 'with': 17,\n",
       " 'as': 18,\n",
       " 'his': 19,\n",
       " 'on': 20,\n",
       " 'be': 21,\n",
       " ';': 22,\n",
       " 'at': 23,\n",
       " 'by': 24,\n",
       " 'i': 25,\n",
       " 'this': 26,\n",
       " 'had': 27,\n",
       " '?': 28,\n",
       " 'not': 29,\n",
       " 'are': 30,\n",
       " 'but': 31,\n",
       " 'from': 32,\n",
       " 'or': 33,\n",
       " 'have': 34,\n",
       " 'an': 35,\n",
       " 'they': 36,\n",
       " 'which': 37,\n",
       " '--': 38,\n",
       " 'one': 39,\n",
       " 'you': 40,\n",
       " 'were': 41,\n",
       " 'her': 42,\n",
       " 'all': 43,\n",
       " 'she': 44,\n",
       " 'there': 45,\n",
       " 'would': 46,\n",
       " 'their': 47,\n",
       " 'we': 48,\n",
       " 'him': 49,\n",
       " 'been': 50,\n",
       " ')': 51,\n",
       " 'has': 52,\n",
       " '(': 53,\n",
       " 'when': 54,\n",
       " 'who': 55,\n",
       " 'will': 56,\n",
       " 'more': 57,\n",
       " 'if': 58,\n",
       " 'no': 59,\n",
       " 'out': 60,\n",
       " 'so': 61,\n",
       " 'said': 62,\n",
       " 'what': 63,\n",
       " 'up': 64,\n",
       " 'its': 65,\n",
       " 'about': 66,\n",
       " ':': 67,\n",
       " 'into': 68,\n",
       " 'than': 69,\n",
       " 'them': 70,\n",
       " 'can': 71,\n",
       " 'only': 72,\n",
       " 'other': 73,\n",
       " 'new': 74,\n",
       " 'some': 75,\n",
       " 'could': 76,\n",
       " 'time': 77,\n",
       " '!': 78,\n",
       " 'these': 79,\n",
       " 'two': 80,\n",
       " 'may': 81,\n",
       " 'then': 82,\n",
       " 'do': 83,\n",
       " 'first': 84,\n",
       " 'any': 85,\n",
       " 'my': 86,\n",
       " 'now': 87,\n",
       " 'such': 88,\n",
       " 'like': 89,\n",
       " 'our': 90,\n",
       " 'over': 91,\n",
       " 'man': 92,\n",
       " 'me': 93,\n",
       " 'even': 94,\n",
       " 'most': 95,\n",
       " 'made': 96,\n",
       " 'also': 97,\n",
       " 'after': 98,\n",
       " 'did': 99,\n",
       " 'many': 100,\n",
       " 'before': 101,\n",
       " 'must': 102,\n",
       " 'af': 103,\n",
       " 'through': 104,\n",
       " 'back': 105,\n",
       " 'years': 106,\n",
       " 'where': 107,\n",
       " 'much': 108,\n",
       " 'your': 109,\n",
       " 'way': 110,\n",
       " 'well': 111,\n",
       " 'down': 112,\n",
       " 'should': 113,\n",
       " 'because': 114,\n",
       " 'each': 115,\n",
       " 'just': 116,\n",
       " 'those': 117,\n",
       " 'people': 118,\n",
       " 'mr.': 119,\n",
       " 'too': 120,\n",
       " 'how': 121,\n",
       " 'little': 122,\n",
       " 'state': 123,\n",
       " 'good': 124,\n",
       " 'very': 125,\n",
       " 'make': 126,\n",
       " 'world': 127,\n",
       " 'still': 128,\n",
       " 'see': 129,\n",
       " 'own': 130,\n",
       " 'men': 131,\n",
       " 'work': 132,\n",
       " 'long': 133,\n",
       " 'here': 134,\n",
       " 'get': 135,\n",
       " 'both': 136,\n",
       " 'between': 137,\n",
       " 'life': 138,\n",
       " 'being': 139,\n",
       " 'under': 140,\n",
       " 'never': 141,\n",
       " 'day': 142,\n",
       " 'same': 143,\n",
       " 'another': 144,\n",
       " 'know': 145,\n",
       " 'while': 146,\n",
       " 'last': 147,\n",
       " 'us': 148,\n",
       " 'might': 149,\n",
       " 'great': 150,\n",
       " 'old': 151,\n",
       " 'year': 152,\n",
       " 'off': 153,\n",
       " 'come': 154,\n",
       " 'since': 155,\n",
       " 'against': 156,\n",
       " 'go': 157,\n",
       " 'came': 158,\n",
       " 'right': 159,\n",
       " 'used': 160,\n",
       " 'take': 161,\n",
       " 'three': 162,\n",
       " 'himself': 163,\n",
       " 'states': 164,\n",
       " 'few': 165,\n",
       " 'house': 166,\n",
       " 'use': 167,\n",
       " 'during': 168,\n",
       " 'without': 169,\n",
       " 'again': 170,\n",
       " 'place': 171,\n",
       " 'american': 172,\n",
       " 'around': 173,\n",
       " 'however': 174,\n",
       " 'home': 175,\n",
       " 'small': 176,\n",
       " 'found': 177,\n",
       " 'mrs.': 178,\n",
       " '1': 179,\n",
       " 'thought': 180,\n",
       " 'went': 181,\n",
       " 'say': 182,\n",
       " 'part': 183,\n",
       " 'once': 184,\n",
       " 'general': 185,\n",
       " 'high': 186,\n",
       " 'upon': 187,\n",
       " 'school': 188,\n",
       " 'every': 189,\n",
       " \"don't\": 190,\n",
       " 'does': 191,\n",
       " 'got': 192,\n",
       " 'united': 193,\n",
       " 'left': 194,\n",
       " 'number': 195,\n",
       " 'course': 196,\n",
       " 'war': 197,\n",
       " 'until': 198,\n",
       " 'always': 199,\n",
       " 'away': 200,\n",
       " 'something': 201,\n",
       " 'fact': 202,\n",
       " '2': 203,\n",
       " 'water': 204,\n",
       " 'though': 205,\n",
       " 'public': 206,\n",
       " 'less': 207,\n",
       " 'put': 208,\n",
       " 'think': 209,\n",
       " 'almost': 210,\n",
       " 'hand': 211,\n",
       " 'enough': 212,\n",
       " 'took': 213,\n",
       " 'far': 214,\n",
       " 'head': 215,\n",
       " 'yet': 216,\n",
       " 'government': 217,\n",
       " 'system': 218,\n",
       " 'set': 219,\n",
       " 'better': 220,\n",
       " 'told': 221,\n",
       " 'night': 222,\n",
       " 'nothing': 223,\n",
       " 'end': 224,\n",
       " 'why': 225,\n",
       " \"didn't\": 226,\n",
       " 'called': 227,\n",
       " 'eyes': 228,\n",
       " 'find': 229,\n",
       " 'going': 230,\n",
       " 'look': 231,\n",
       " 'asked': 232,\n",
       " 'later': 233,\n",
       " 'knew': 234,\n",
       " 'point': 235,\n",
       " 'next': 236,\n",
       " 'program': 237,\n",
       " 'city': 238,\n",
       " 'business': 239,\n",
       " 'group': 240,\n",
       " 'give': 241,\n",
       " 'toward': 242,\n",
       " 'young': 243,\n",
       " 'let': 244,\n",
       " 'days': 245,\n",
       " 'room': 246,\n",
       " 'president': 247,\n",
       " 'side': 248,\n",
       " 'social': 249,\n",
       " 'present': 250,\n",
       " 'given': 251,\n",
       " 'several': 252,\n",
       " 'order': 253,\n",
       " 'national': 254,\n",
       " 'possible': 255,\n",
       " 'rather': 256,\n",
       " 'second': 257,\n",
       " 'face': 258,\n",
       " 'per': 259,\n",
       " 'among': 260,\n",
       " 'form': 261,\n",
       " 'often': 262,\n",
       " 'important': 263,\n",
       " 'things': 264,\n",
       " 'looked': 265,\n",
       " 'early': 266,\n",
       " 'white': 267,\n",
       " 'john': 268,\n",
       " 'case': 269,\n",
       " 'large': 270,\n",
       " 'four': 271,\n",
       " 'need': 272,\n",
       " 'big': 273,\n",
       " 'become': 274,\n",
       " 'within': 275,\n",
       " 'felt': 276,\n",
       " 'children': 277,\n",
       " 'along': 278,\n",
       " 'saw': 279,\n",
       " 'best': 280,\n",
       " 'church': 281,\n",
       " 'ever': 282,\n",
       " 'least': 283,\n",
       " 'power': 284,\n",
       " 'development': 285,\n",
       " 'seemed': 286,\n",
       " 'thing': 287,\n",
       " 'light': 288,\n",
       " 'family': 289,\n",
       " 'interest': 290,\n",
       " 'want': 291,\n",
       " 'members': 292,\n",
       " 'mind': 293,\n",
       " 'area': 294,\n",
       " 'country': 295,\n",
       " 'others': 296,\n",
       " 'although': 297,\n",
       " 'turned': 298,\n",
       " 'done': 299,\n",
       " 'open': 300,\n",
       " \"'\": 301,\n",
       " 'god': 302,\n",
       " 'service': 303,\n",
       " 'problem': 304,\n",
       " 'certain': 305,\n",
       " 'kind': 306,\n",
       " 'different': 307,\n",
       " 'thus': 308,\n",
       " 'began': 309,\n",
       " 'door': 310,\n",
       " 'help': 311,\n",
       " 'sense': 312,\n",
       " 'means': 313,\n",
       " 'whole': 314,\n",
       " 'matter': 315,\n",
       " 'perhaps': 316,\n",
       " 'itself': 317,\n",
       " 'york': 318,\n",
       " \"it's\": 319,\n",
       " 'times': 320,\n",
       " 'law': 321,\n",
       " 'human': 322,\n",
       " 'line': 323,\n",
       " 'above': 324,\n",
       " 'name': 325,\n",
       " 'example': 326,\n",
       " 'action': 327,\n",
       " 'company': 328,\n",
       " 'hands': 329,\n",
       " 'local': 330,\n",
       " 'show': 331,\n",
       " '3': 332,\n",
       " 'whether': 333,\n",
       " 'five': 334,\n",
       " 'history': 335,\n",
       " 'gave': 336,\n",
       " 'today': 337,\n",
       " 'either': 338,\n",
       " 'act': 339,\n",
       " 'feet': 340,\n",
       " 'across': 341,\n",
       " 'taken': 342,\n",
       " 'past': 343,\n",
       " 'quite': 344,\n",
       " 'anything': 345,\n",
       " 'seen': 346,\n",
       " 'having': 347,\n",
       " 'death': 348,\n",
       " 'experience': 349,\n",
       " 'body': 350,\n",
       " 'week': 351,\n",
       " 'half': 352,\n",
       " 'really': 353,\n",
       " 'word': 354,\n",
       " 'field': 355,\n",
       " 'car': 356,\n",
       " 'words': 357,\n",
       " 'already': 358,\n",
       " 'themselves': 359,\n",
       " \"i'm\": 360,\n",
       " 'information': 361,\n",
       " 'tell': 362,\n",
       " 'shall': 363,\n",
       " 'together': 364,\n",
       " 'college': 365,\n",
       " 'money': 366,\n",
       " 'period': 367,\n",
       " 'held': 368,\n",
       " 'keep': 369,\n",
       " 'sure': 370,\n",
       " 'probably': 371,\n",
       " 'free': 372,\n",
       " 'seems': 373,\n",
       " 'political': 374,\n",
       " 'real': 375,\n",
       " 'cannot': 376,\n",
       " 'behind': 377,\n",
       " 'question': 378,\n",
       " 'air': 379,\n",
       " 'office': 380,\n",
       " 'making': 381,\n",
       " 'brought': 382,\n",
       " 'miss': 383,\n",
       " 'whose': 384,\n",
       " 'special': 385,\n",
       " 'major': 386,\n",
       " 'heard': 387,\n",
       " 'problems': 388,\n",
       " 'federal': 389,\n",
       " 'became': 390,\n",
       " 'study': 391,\n",
       " 'ago': 392,\n",
       " 'moment': 393,\n",
       " 'available': 394,\n",
       " 'known': 395,\n",
       " 'result': 396,\n",
       " 'street': 397,\n",
       " 'economic': 398,\n",
       " 'boy': 399,\n",
       " 'position': 400,\n",
       " 'reason': 401,\n",
       " 'change': 402,\n",
       " 'south': 403,\n",
       " 'board': 404,\n",
       " 'individual': 405,\n",
       " 'job': 406,\n",
       " 'am': 407,\n",
       " 'society': 408,\n",
       " 'areas': 409,\n",
       " 'west': 410,\n",
       " 'close': 411,\n",
       " 'turn': 412,\n",
       " 'community': 413,\n",
       " 'true': 414,\n",
       " 'love': 415,\n",
       " 'court': 416,\n",
       " 'force': 417,\n",
       " 'full': 418,\n",
       " 'cost': 419,\n",
       " 'seem': 420,\n",
       " 'wife': 421,\n",
       " 'future': 422,\n",
       " 'age': 423,\n",
       " 'wanted': 424,\n",
       " 'voice': 425,\n",
       " 'department': 426,\n",
       " 'center': 427,\n",
       " 'woman': 428,\n",
       " 'control': 429,\n",
       " 'common': 430,\n",
       " 'policy': 431,\n",
       " 'necessary': 432,\n",
       " 'following': 433,\n",
       " 'front': 434,\n",
       " 'sometimes': 435,\n",
       " 'six': 436,\n",
       " 'girl': 437,\n",
       " 'clear': 438,\n",
       " 'further': 439,\n",
       " 'land': 440,\n",
       " 'provide': 441,\n",
       " 'feel': 442,\n",
       " 'party': 443,\n",
       " 'able': 444,\n",
       " 'mother': 445,\n",
       " 'music': 446,\n",
       " 'education': 447,\n",
       " 'university': 448,\n",
       " 'child': 449,\n",
       " 'effect': 450,\n",
       " 'students': 451,\n",
       " 'level': 452,\n",
       " 'run': 453,\n",
       " 'stood': 454,\n",
       " 'military': 455,\n",
       " 'town': 456,\n",
       " 'short': 457,\n",
       " 'morning': 458,\n",
       " 'total': 459,\n",
       " 'outside': 460,\n",
       " 'rate': 461,\n",
       " 'figure': 462,\n",
       " 'art': 463,\n",
       " 'century': 464,\n",
       " 'class': 465,\n",
       " 'washington': 466,\n",
       " '4': 467,\n",
       " 'north': 468,\n",
       " 'usually': 469,\n",
       " 'plan': 470,\n",
       " 'leave': 471,\n",
       " 'therefore': 472,\n",
       " 'evidence': 473,\n",
       " 'top': 474,\n",
       " 'million': 475,\n",
       " 'sound': 476,\n",
       " 'black': 477,\n",
       " 'strong': 478,\n",
       " 'hard': 479,\n",
       " 'tax': 480,\n",
       " 'various': 481,\n",
       " 'says': 482,\n",
       " 'believe': 483,\n",
       " 'type': 484,\n",
       " 'value': 485,\n",
       " 'play': 486,\n",
       " 'surface': 487,\n",
       " 'soon': 488,\n",
       " 'mean': 489,\n",
       " 'near': 490,\n",
       " 'lines': 491,\n",
       " 'table': 492,\n",
       " 'peace': 493,\n",
       " 'modern': 494,\n",
       " 'road': 495,\n",
       " 'red': 496,\n",
       " 'book': 497,\n",
       " 'personal': 498,\n",
       " 'process': 499,\n",
       " 'situation': 500,\n",
       " 'minutes': 501,\n",
       " 'increase': 502,\n",
       " 'schools': 503,\n",
       " 'idea': 504,\n",
       " 'english': 505,\n",
       " 'alone': 506,\n",
       " 'women': 507,\n",
       " 'gone': 508,\n",
       " 'nor': 509,\n",
       " 'living': 510,\n",
       " 'america': 511,\n",
       " 'started': 512,\n",
       " 'longer': 513,\n",
       " 'dr.': 514,\n",
       " 'cut': 515,\n",
       " 'finally': 516,\n",
       " 'secretary': 517,\n",
       " 'nature': 518,\n",
       " 'private': 519,\n",
       " 'third': 520,\n",
       " 'months': 521,\n",
       " 'section': 522,\n",
       " 'greater': 523,\n",
       " 'call': 524,\n",
       " 'fire': 525,\n",
       " 'expected': 526,\n",
       " 'needed': 527,\n",
       " \"that's\": 528,\n",
       " 'kept': 529,\n",
       " 'ground': 530,\n",
       " 'view': 531,\n",
       " 'values': 532,\n",
       " 'everything': 533,\n",
       " 'pressure': 534,\n",
       " 'dark': 535,\n",
       " 'basis': 536,\n",
       " 'space': 537,\n",
       " 'east': 538,\n",
       " 'father': 539,\n",
       " 'required': 540,\n",
       " 'union': 541,\n",
       " 'spirit': 542,\n",
       " 'complete': 543,\n",
       " 'except': 544,\n",
       " 'wrote': 545,\n",
       " \"i'll\": 546,\n",
       " 'moved': 547,\n",
       " 'support': 548,\n",
       " 'return': 549,\n",
       " 'conditions': 550,\n",
       " 'recent': 551,\n",
       " 'attention': 552,\n",
       " 'late': 553,\n",
       " 'particular': 554,\n",
       " 'live': 555,\n",
       " 'hope': 556,\n",
       " 'costs': 557,\n",
       " 'else': 558,\n",
       " 'brown': 559,\n",
       " 'taking': 560,\n",
       " \"couldn't\": 561,\n",
       " 'forces': 562,\n",
       " 'nations': 563,\n",
       " 'beyond': 564,\n",
       " 'stage': 565,\n",
       " 'read': 566,\n",
       " 'report': 567,\n",
       " 'coming': 568,\n",
       " 'hours': 569,\n",
       " 'person': 570,\n",
       " 'inside': 571,\n",
       " 'dead': 572,\n",
       " 'material': 573,\n",
       " 'instead': 574,\n",
       " 'lost': 575,\n",
       " 'heart': 576,\n",
       " 'looking': 577,\n",
       " 'low': 578,\n",
       " 'miles': 579,\n",
       " 'data': 580,\n",
       " 'added': 581,\n",
       " 'pay': 582,\n",
       " 'amount': 583,\n",
       " 'followed': 584,\n",
       " 'feeling': 585,\n",
       " '1960': 586,\n",
       " 'single': 587,\n",
       " 'makes': 588,\n",
       " 'research': 589,\n",
       " 'including': 590,\n",
       " 'basic': 591,\n",
       " 'hundred': 592,\n",
       " 'move': 593,\n",
       " 'industry': 594,\n",
       " 'cold': 595,\n",
       " 'simply': 596,\n",
       " 'developed': 597,\n",
       " 'tried': 598,\n",
       " 'hold': 599,\n",
       " \"can't\": 600,\n",
       " 'reached': 601,\n",
       " 'committee': 602,\n",
       " 'island': 603,\n",
       " 'defense': 604,\n",
       " 'equipment': 605,\n",
       " 'actually': 606,\n",
       " 'shown': 607,\n",
       " 'son': 608,\n",
       " 'central': 609,\n",
       " 'religious': 610,\n",
       " 'river': 611,\n",
       " 'getting': 612,\n",
       " 'st.': 613,\n",
       " 'beginning': 614,\n",
       " 'sort': 615,\n",
       " 'ten': 616,\n",
       " 'received': 617,\n",
       " '&': 618,\n",
       " 'doing': 619,\n",
       " 'terms': 620,\n",
       " 'trying': 621,\n",
       " 'rest': 622,\n",
       " 'medical': 623,\n",
       " 'u.s.': 624,\n",
       " 'care': 625,\n",
       " 'especially': 626,\n",
       " 'friends': 627,\n",
       " 'picture': 628,\n",
       " 'indeed': 629,\n",
       " 'administration': 630,\n",
       " 'fine': 631,\n",
       " 'subject': 632,\n",
       " 'difficult': 633,\n",
       " 'building': 634,\n",
       " 'higher': 635,\n",
       " 'wall': 636,\n",
       " 'simple': 637,\n",
       " 'meeting': 638,\n",
       " 'walked': 639,\n",
       " 'floor': 640,\n",
       " 'foreign': 641,\n",
       " 'bring': 642,\n",
       " 'similar': 643,\n",
       " 'passed': 644,\n",
       " 'range': 645,\n",
       " 'paper': 646,\n",
       " 'property': 647,\n",
       " 'natural': 648,\n",
       " 'final': 649,\n",
       " 'training': 650,\n",
       " 'county': 651,\n",
       " 'police': 652,\n",
       " 'cent': 653,\n",
       " 'international': 654,\n",
       " 'growth': 655,\n",
       " 'market': 656,\n",
       " \"wasn't\": 657,\n",
       " 'talk': 658,\n",
       " 'start': 659,\n",
       " 'england': 660,\n",
       " 'written': 661,\n",
       " 'hear': 662,\n",
       " 'suddenly': 663,\n",
       " 'story': 664,\n",
       " 'issue': 665,\n",
       " 'congress': 666,\n",
       " 'needs': 667,\n",
       " '10': 668,\n",
       " 'answer': 669,\n",
       " 'hall': 670,\n",
       " 'likely': 671,\n",
       " 'working': 672,\n",
       " 'countries': 673,\n",
       " 'considered': 674,\n",
       " \"you're\": 675,\n",
       " 'earth': 676,\n",
       " 'sat': 677,\n",
       " 'purpose': 678,\n",
       " 'meet': 679,\n",
       " 'labor': 680,\n",
       " 'results': 681,\n",
       " 'entire': 682,\n",
       " 'happened': 683,\n",
       " 'william': 684,\n",
       " 'cases': 685,\n",
       " 'stand': 686,\n",
       " 'difference': 687,\n",
       " 'production': 688,\n",
       " 'hair': 689,\n",
       " 'involved': 690,\n",
       " 'fall': 691,\n",
       " 'stock': 692,\n",
       " 'food': 693,\n",
       " 'earlier': 694,\n",
       " 'increased': 695,\n",
       " 'whom': 696,\n",
       " 'particularly': 697,\n",
       " 'paid': 698,\n",
       " 'sent': 699,\n",
       " 'effort': 700,\n",
       " 'knowledge': 701,\n",
       " 'hour': 702,\n",
       " 'letter': 703,\n",
       " 'club': 704,\n",
       " 'using': 705,\n",
       " 'below': 706,\n",
       " 'thinking': 707,\n",
       " 'yes': 708,\n",
       " 'christian': 709,\n",
       " 'blue': 710,\n",
       " 'ready': 711,\n",
       " 'bill': 712,\n",
       " 'deal': 713,\n",
       " 'points': 714,\n",
       " 'trade': 715,\n",
       " 'certainly': 716,\n",
       " 'ideas': 717,\n",
       " 'industrial': 718,\n",
       " 'square': 719,\n",
       " 'boys': 720,\n",
       " 'methods': 721,\n",
       " 'addition': 722,\n",
       " 'method': 723,\n",
       " 'bad': 724,\n",
       " 'due': 725,\n",
       " '5': 726,\n",
       " 'girls': 727,\n",
       " 'moral': 728,\n",
       " 'decided': 729,\n",
       " 'reading': 730,\n",
       " 'statement': 731,\n",
       " 'weeks': 732,\n",
       " 'neither': 733,\n",
       " 'nearly': 734,\n",
       " 'directly': 735,\n",
       " 'showed': 736,\n",
       " 'throughout': 737,\n",
       " 'according': 738,\n",
       " 'questions': 739,\n",
       " 'color': 740,\n",
       " 'kennedy': 741,\n",
       " 'anyone': 742,\n",
       " 'try': 743,\n",
       " 'services': 744,\n",
       " 'programs': 745,\n",
       " 'nation': 746,\n",
       " 'lay': 747,\n",
       " 'french': 748,\n",
       " 'size': 749,\n",
       " 'remember': 750,\n",
       " 'physical': 751,\n",
       " 'record': 752,\n",
       " 'member': 753,\n",
       " 'comes': 754,\n",
       " 'understand': 755,\n",
       " 'southern': 756,\n",
       " 'western': 757,\n",
       " 'strength': 758,\n",
       " 'population': 759,\n",
       " 'normal': 760,\n",
       " 'merely': 761,\n",
       " 'district': 762,\n",
       " 'volume': 763,\n",
       " 'concerned': 764,\n",
       " 'appeared': 765,\n",
       " 'temperature': 766,\n",
       " '1961': 767,\n",
       " 'aid': 768,\n",
       " 'trouble': 769,\n",
       " 'trial': 770,\n",
       " 'summer': 771,\n",
       " 'direction': 772,\n",
       " 'ran': 773,\n",
       " 'sales': 774,\n",
       " 'list': 775,\n",
       " 'continued': 776,\n",
       " 'friend': 777,\n",
       " 'evening': 778,\n",
       " 'maybe': 779,\n",
       " 'literature': 780,\n",
       " 'generally': 781,\n",
       " 'association': 782,\n",
       " 'provided': 783,\n",
       " 'led': 784,\n",
       " 'army': 785,\n",
       " 'met': 786,\n",
       " 'influence': 787,\n",
       " 'opened': 788,\n",
       " 'former': 789,\n",
       " 'science': 790,\n",
       " 'student': 791,\n",
       " 'step': 792,\n",
       " 'changes': 793,\n",
       " 'chance': 794,\n",
       " 'husband': 795,\n",
       " 'hot': 796,\n",
       " 'series': 797,\n",
       " 'average': 798,\n",
       " 'works': 799,\n",
       " 'month': 800,\n",
       " 'cause': 801,\n",
       " 'effective': 802,\n",
       " 'george': 803,\n",
       " 'planning': 804,\n",
       " 'systems': 805,\n",
       " \"wouldn't\": 806,\n",
       " 'direct': 807,\n",
       " 'soviet': 808,\n",
       " 'stopped': 809,\n",
       " 'wrong': 810,\n",
       " 'lead': 811,\n",
       " 'myself': 812,\n",
       " 'piece': 813,\n",
       " 'theory': 814,\n",
       " 'ask': 815,\n",
       " 'worked': 816,\n",
       " 'freedom': 817,\n",
       " 'organization': 818,\n",
       " 'clearly': 819,\n",
       " 'movement': 820,\n",
       " 'ways': 821,\n",
       " 'press': 822,\n",
       " 'somewhat': 823,\n",
       " 'spring': 824,\n",
       " 'efforts': 825,\n",
       " 'consider': 826,\n",
       " 'meaning': 827,\n",
       " 'bed': 828,\n",
       " 'fear': 829,\n",
       " 'lot': 830,\n",
       " 'treatment': 831,\n",
       " 'beautiful': 832,\n",
       " 'note': 833,\n",
       " 'forms': 834,\n",
       " 'placed': 835,\n",
       " 'hotel': 836,\n",
       " 'truth': 837,\n",
       " 'apparently': 838,\n",
       " 'degree': 839,\n",
       " 'groups': 840,\n",
       " \"he's\": 841,\n",
       " 'plant': 842,\n",
       " 'carried': 843,\n",
       " 'wide': 844,\n",
       " \"i've\": 845,\n",
       " 'respect': 846,\n",
       " \"man's\": 847,\n",
       " 'herself': 848,\n",
       " 'numbers': 849,\n",
       " 'manner': 850,\n",
       " 'reaction': 851,\n",
       " 'easy': 852,\n",
       " 'farm': 853,\n",
       " 'immediately': 854,\n",
       " 'running': 855,\n",
       " 'approach': 856,\n",
       " 'game': 857,\n",
       " 'recently': 858,\n",
       " 'larger': 859,\n",
       " 'lower': 860,\n",
       " 'charge': 861,\n",
       " 'couple': 862,\n",
       " 'de': 863,\n",
       " 'daily': 864,\n",
       " 'eye': 865,\n",
       " 'performance': 866,\n",
       " 'feed': 867,\n",
       " 'oh': 868,\n",
       " 'march': 869,\n",
       " 'persons': 870,\n",
       " 'understanding': 871,\n",
       " 'arms': 872,\n",
       " 'opportunity': 873,\n",
       " 'c': 874,\n",
       " 'blood': 875,\n",
       " 'additional': 876,\n",
       " 'j.': 877,\n",
       " 'technical': 878,\n",
       " 'fiscal': 879,\n",
       " 'radio': 880,\n",
       " 'described': 881,\n",
       " 'stop': 882,\n",
       " 'progress': 883,\n",
       " 'steps': 884,\n",
       " 'test': 885,\n",
       " 'chief': 886,\n",
       " 'reported': 887,\n",
       " 'served': 888,\n",
       " 'based': 889,\n",
       " 'main': 890,\n",
       " 'determined': 891,\n",
       " 'image': 892,\n",
       " 'decision': 893,\n",
       " 'window': 894,\n",
       " 'religion': 895,\n",
       " 'aj': 896,\n",
       " 'gun': 897,\n",
       " 'responsibility': 898,\n",
       " 'middle': 899,\n",
       " 'europe': 900,\n",
       " 'british': 901,\n",
       " 'character': 902,\n",
       " 'learned': 903,\n",
       " 'horse': 904,\n",
       " 'writing': 905,\n",
       " 'appear': 906,\n",
       " 's.': 907,\n",
       " 'account': 908,\n",
       " 'ones': 909,\n",
       " 'serious': 910,\n",
       " 'activity': 911,\n",
       " 'types': 912,\n",
       " 'green': 913,\n",
       " 'length': 914,\n",
       " 'lived': 915,\n",
       " 'audience': 916,\n",
       " 'letters': 917,\n",
       " 'returned': 918,\n",
       " 'obtained': 919,\n",
       " 'nuclear': 920,\n",
       " 'specific': 921,\n",
       " 'corner': 922,\n",
       " 'forward': 923,\n",
       " 'activities': 924,\n",
       " 'slowly': 925,\n",
       " 'doubt': 926,\n",
       " '6': 927,\n",
       " 'justice': 928,\n",
       " 'moving': 929,\n",
       " 'latter': 930,\n",
       " 'gives': 931,\n",
       " 'straight': 932,\n",
       " 'hit': 933,\n",
       " 'plane': 934,\n",
       " 'quality': 935,\n",
       " 'design': 936,\n",
       " 'obviously': 937,\n",
       " 'operation': 938,\n",
       " 'plans': 939,\n",
       " 'shot': 940,\n",
       " 'seven': 941,\n",
       " 'a.': 942,\n",
       " 'choice': 943,\n",
       " 'poor': 944,\n",
       " 'staff': 945,\n",
       " 'function': 946,\n",
       " 'figures': 947,\n",
       " 'parts': 948,\n",
       " 'stay': 949,\n",
       " 'saying': 950,\n",
       " 'include': 951,\n",
       " '15': 952,\n",
       " 'born': 953,\n",
       " 'pattern': 954,\n",
       " '30': 955,\n",
       " 'cars': 956,\n",
       " 'whatever': 957,\n",
       " 'sun': 958,\n",
       " 'faith': 959,\n",
       " 'pool': 960,\n",
       " 'hospital': 961,\n",
       " 'corps': 962,\n",
       " 'wish': 963,\n",
       " 'lack': 964,\n",
       " 'completely': 965,\n",
       " 'heavy': 966,\n",
       " 'waiting': 967,\n",
       " 'speak': 968,\n",
       " 'ball': 969,\n",
       " 'standard': 970,\n",
       " 'extent': 971,\n",
       " 'visit': 972,\n",
       " 'democratic': 973,\n",
       " 'firm': 974,\n",
       " 'income': 975,\n",
       " 'ahead': 976,\n",
       " 'deep': 977,\n",
       " \"there's\": 978,\n",
       " 'language': 979,\n",
       " 'principle': 980,\n",
       " 'none': 981,\n",
       " 'price': 982,\n",
       " 'designed': 983,\n",
       " 'indicated': 984,\n",
       " 'analysis': 985,\n",
       " 'distance': 986,\n",
       " 'expect': 987,\n",
       " 'established': 988,\n",
       " 'products': 989,\n",
       " 'effects': 990,\n",
       " 'growing': 991,\n",
       " 'importance': 992,\n",
       " 'continue': 993,\n",
       " 'serve': 994,\n",
       " 'determine': 995,\n",
       " 'cities': 996,\n",
       " 'elements': 997,\n",
       " 'negro': 998,\n",
       " 'leaders': 999,\n",
       " 'division': 1000,\n",
       " ...}"
      ]
     },
     "execution_count": 36,
     "metadata": {},
     "output_type": "execute_result"
    }
   ],
   "source": [
    "word2id"
   ]
  },
  {
   "cell_type": "code",
   "execution_count": 37,
   "id": "prime-resort",
   "metadata": {},
   "outputs": [
    {
     "name": "stdout",
     "output_type": "stream",
     "text": [
      "Embeddings shape: (49816, 300)\n"
     ]
    }
   ],
   "source": [
    "print(\"Embeddings shape: {}\".format(embedding_weights.shape))"
   ]
  },
  {
   "cell_type": "code",
   "execution_count": 38,
   "id": "suited-surveillance",
   "metadata": {
    "collapsed": true,
    "jupyter": {
     "outputs_hidden": true
    }
   },
   "outputs": [
    {
     "data": {
      "text/plain": [
       "array([-4.73632812e-02,  1.87500000e-01,  2.25830078e-03,  1.73828125e-01,\n",
       "       -1.59912109e-02, -1.50390625e-01,  1.13769531e-01, -1.55029297e-02,\n",
       "        2.19726562e-01, -1.01318359e-02,  1.50146484e-02, -1.03515625e-01,\n",
       "        5.34057617e-03, -6.59179688e-02, -1.92382812e-01,  3.89099121e-03,\n",
       "        1.42211914e-02,  8.30078125e-02,  1.30859375e-01, -1.95312500e-01,\n",
       "       -1.19628906e-01, -9.57031250e-02, -4.90722656e-02,  6.10351562e-03,\n",
       "       -1.31225586e-02,  1.25976562e-01,  5.37109375e-02,  4.56542969e-02,\n",
       "        3.32031250e-02,  1.56250000e-01,  1.33666992e-02,  4.39453125e-02,\n",
       "       -4.68750000e-02,  1.39648438e-01,  1.58203125e-01, -4.88281250e-02,\n",
       "        1.11694336e-02, -1.96289062e-01, -7.17773438e-02,  1.82617188e-01,\n",
       "        1.36718750e-01, -7.37304688e-02,  1.73828125e-01, -8.69140625e-02,\n",
       "       -1.83105469e-02,  5.61523438e-02, -1.62353516e-02,  1.57226562e-01,\n",
       "       -4.76074219e-02,  8.25195312e-02,  4.58984375e-02, -1.33789062e-01,\n",
       "       -3.32031250e-02, -2.62451172e-02, -9.32617188e-02,  5.54199219e-02,\n",
       "        1.57226562e-01,  6.93359375e-02,  3.01513672e-02, -9.22851562e-02,\n",
       "       -1.03027344e-01, -1.01470947e-03, -4.54101562e-02, -1.72851562e-01,\n",
       "        1.34277344e-02,  3.24707031e-02, -1.19018555e-02,  2.91748047e-02,\n",
       "       -1.11328125e-01, -7.03125000e-02,  3.68652344e-02,  4.46777344e-02,\n",
       "       -9.08203125e-02,  6.95800781e-03, -2.89306641e-02, -8.44726562e-02,\n",
       "        1.15722656e-01,  6.03027344e-02,  6.88476562e-02,  2.04101562e-01,\n",
       "        1.05468750e-01,  7.61718750e-02,  9.66796875e-02, -1.25976562e-01,\n",
       "        7.53784180e-03, -6.34765625e-02, -1.04980469e-02,  7.32421875e-02,\n",
       "        6.64062500e-02,  1.24511719e-01,  4.34570312e-02,  3.12500000e-02,\n",
       "       -3.17382812e-02, -1.79687500e-01, -2.36328125e-01, -2.30468750e-01,\n",
       "       -8.64257812e-02,  6.29882812e-02,  8.15429688e-02,  4.10156250e-02,\n",
       "        1.94091797e-02, -8.59375000e-02, -2.30712891e-02, -5.39550781e-02,\n",
       "       -1.16699219e-01, -3.06396484e-02,  2.22167969e-02,  8.54492188e-02,\n",
       "        8.64257812e-02, -1.05590820e-02,  7.95898438e-02,  2.47802734e-02,\n",
       "        9.17968750e-02,  5.83496094e-02,  1.73339844e-02,  2.38037109e-02,\n",
       "        8.93554688e-02, -7.03125000e-02, -3.66210938e-02, -2.33154297e-02,\n",
       "       -2.03125000e-01, -5.46875000e-02,  6.44531250e-02,  1.30859375e-01,\n",
       "       -6.10351562e-02,  1.19628906e-02,  1.01074219e-01, -4.32128906e-02,\n",
       "       -7.86132812e-02,  7.47070312e-02, -5.32226562e-02, -2.23632812e-01,\n",
       "       -7.32421875e-02, -5.39550781e-02, -8.59375000e-02, -2.83203125e-01,\n",
       "       -2.18505859e-02,  3.41796875e-02,  1.27563477e-02,  2.66113281e-02,\n",
       "        1.51367188e-01, -9.37500000e-02,  5.56640625e-02, -8.64257812e-02,\n",
       "       -6.34765625e-02,  1.17675781e-01, -9.86328125e-02, -7.51953125e-02,\n",
       "       -1.37695312e-01, -5.24902344e-02,  2.03857422e-02,  1.51367188e-01,\n",
       "       -4.66308594e-02,  9.03320312e-03,  8.64257812e-02, -1.49414062e-01,\n",
       "        5.02929688e-02, -1.45507812e-01, -6.15234375e-02, -2.49023438e-01,\n",
       "       -5.12695312e-02,  1.99218750e-01,  1.48437500e-01, -9.71679688e-02,\n",
       "       -3.12500000e-02,  9.61914062e-02, -9.37500000e-02, -1.71661377e-04,\n",
       "        7.76367188e-02, -6.03027344e-02,  1.22070312e-03, -7.27539062e-02,\n",
       "       -8.25195312e-02, -1.51367188e-01,  2.75878906e-02, -2.70996094e-02,\n",
       "       -1.83105469e-02, -8.05664062e-02,  7.56835938e-02, -4.51660156e-02,\n",
       "        2.67333984e-02,  2.75878906e-02,  5.73730469e-02, -3.68652344e-02,\n",
       "        3.93066406e-02, -1.85546875e-01, -2.51464844e-02, -1.87988281e-02,\n",
       "        1.59179688e-01, -1.04980469e-01,  7.08007812e-02,  4.45556641e-03,\n",
       "       -4.73022461e-03,  3.97949219e-02, -1.05468750e-01,  2.07031250e-01,\n",
       "        1.07421875e-01,  3.80859375e-02, -1.99218750e-01, -1.75781250e-01,\n",
       "       -2.41699219e-02,  1.20117188e-01,  2.12402344e-02,  1.74804688e-01,\n",
       "        1.43554688e-01, -1.28906250e-01, -1.95312500e-01,  1.17187500e-01,\n",
       "        2.80761719e-03, -5.37109375e-02,  7.47070312e-02,  3.41796875e-02,\n",
       "       -2.11914062e-01,  4.39453125e-02, -1.36718750e-01, -4.95605469e-02,\n",
       "        5.29785156e-02, -3.83300781e-02, -4.95605469e-02,  1.67846680e-03,\n",
       "       -5.76171875e-02, -9.94873047e-03, -1.95312500e-02, -6.10351562e-02,\n",
       "       -2.62451172e-02,  4.51660156e-02,  7.27539062e-02, -4.19921875e-02,\n",
       "        3.68652344e-02,  5.98144531e-02,  4.10156250e-02, -4.80957031e-02,\n",
       "       -5.93261719e-02, -7.12890625e-02, -3.17382812e-02,  3.29589844e-02,\n",
       "        1.64794922e-02, -6.68945312e-02, -9.32617188e-02, -6.54296875e-02,\n",
       "       -1.11694336e-02,  1.03149414e-02,  6.34765625e-02, -2.94921875e-01,\n",
       "       -4.15039062e-02, -1.78710938e-01, -3.05175781e-02,  9.47265625e-02,\n",
       "        1.24511719e-02, -1.83105469e-02,  3.34472656e-02,  4.85839844e-02,\n",
       "       -7.23266602e-03,  7.61718750e-02, -3.73535156e-02,  5.46875000e-02,\n",
       "        9.91210938e-02, -2.78320312e-02, -7.03125000e-02, -3.51562500e-02,\n",
       "       -8.49609375e-02, -1.54296875e-01, -7.32421875e-02, -1.83105469e-03,\n",
       "        5.54199219e-02,  1.84326172e-02,  1.04003906e-01,  1.18164062e-01,\n",
       "       -6.88476562e-02, -7.81250000e-03,  1.24023438e-01,  1.28906250e-01,\n",
       "        2.04101562e-01,  1.25976562e-01,  2.92968750e-02, -6.88476562e-02,\n",
       "       -1.76757812e-01, -1.85546875e-01,  7.47070312e-02, -1.43554688e-01,\n",
       "       -3.32031250e-02, -1.39648438e-01,  1.71661377e-03,  5.49316406e-02,\n",
       "       -3.46679688e-02, -7.76367188e-02, -8.59375000e-02,  3.75976562e-02,\n",
       "        3.63769531e-02,  1.43554688e-01, -1.58203125e-01,  3.17382812e-02,\n",
       "       -1.79687500e-01, -1.62109375e-01, -3.80859375e-02, -6.34765625e-02,\n",
       "       -1.03027344e-01, -3.55529785e-03, -6.25000000e-02, -5.56640625e-02])"
      ]
     },
     "execution_count": 38,
     "metadata": {},
     "output_type": "execute_result"
    }
   ],
   "source": [
    "embedding_weights[word_tokenizer.word_index['time']] #11388 by 300 dimension matrix"
   ]
  },
  {
   "cell_type": "code",
   "execution_count": 39,
   "id": "resistant-butterfly",
   "metadata": {},
   "outputs": [],
   "source": [
    "# to_categorical을 이용하여 Y를 one-hot encoding시킴\n",
    "Y = to_categorical(Y)"
   ]
  },
  {
   "cell_type": "code",
   "execution_count": 40,
   "id": "worst-frequency",
   "metadata": {},
   "outputs": [
    {
     "name": "stdout",
     "output_type": "stream",
     "text": [
      "(57340, 100, 13)\n",
      "(57340, 100)\n"
     ]
    }
   ],
   "source": [
    "print(Y.shape)\n",
    "print(X.shape)"
   ]
  },
  {
   "cell_type": "markdown",
   "id": "mighty-midnight",
   "metadata": {},
   "source": [
    "## Split data into test/train sets"
   ]
  },
  {
   "cell_type": "code",
   "execution_count": 41,
   "id": "prescribed-school",
   "metadata": {},
   "outputs": [],
   "source": [
    "TEST_SIZE = 0.15\n",
    "X_train, X_test, Y_train, Y_test = train_test_split(X, Y, test_size=TEST_SIZE, random_state=4)"
   ]
  },
  {
   "cell_type": "code",
   "execution_count": 42,
   "id": "prepared-mapping",
   "metadata": {},
   "outputs": [],
   "source": [
    "# split training data into training and validation sets\n",
    "VALID_SIZE = 0.15\n",
    "X_train, X_validation, Y_train, Y_validation = train_test_split(X_train, Y_train, test_size=VALID_SIZE, random_state=4)"
   ]
  },
  {
   "cell_type": "code",
   "execution_count": 43,
   "id": "through-november",
   "metadata": {},
   "outputs": [
    {
     "name": "stdout",
     "output_type": "stream",
     "text": [
      "TRAINING DATA\n",
      "Shape of input sequences: (41428, 100)\n",
      "Shape of output sequences: (41428, 100, 13)\n",
      "--------------------------------------------------\n",
      "VALIDATION DATA\n",
      "Shape of input sequences: (7311, 100)\n",
      "Shape of output sequences: (7311, 100, 13)\n",
      "--------------------------------------------------\n",
      "TESTING DATA\n",
      "Shape of input sequences: (8601, 100)\n",
      "Shape of output sequences: (8601, 100, 13)\n"
     ]
    }
   ],
   "source": [
    "print(\"TRAINING DATA\")\n",
    "print('Shape of input sequences: {}'.format(X_train.shape))\n",
    "print('Shape of output sequences: {}'.format(Y_train.shape))\n",
    "print(\"-\"*50)\n",
    "print(\"VALIDATION DATA\")\n",
    "print('Shape of input sequences: {}'.format(X_validation.shape))\n",
    "print('Shape of output sequences: {}'.format(Y_validation.shape))\n",
    "print(\"-\"*50)\n",
    "print(\"TESTING DATA\")\n",
    "print('Shape of input sequences: {}'.format(X_test.shape))\n",
    "print('Shape of output sequences: {}'.format(Y_test.shape))"
   ]
  },
  {
   "cell_type": "markdown",
   "id": "grand-individual",
   "metadata": {},
   "source": [
    "# Vanilla RNN"
   ]
  },
  {
   "cell_type": "code",
   "execution_count": 45,
   "id": "multiple-ratio",
   "metadata": {},
   "outputs": [
    {
     "data": {
      "text/plain": [
       "13"
      ]
     },
     "execution_count": 45,
     "metadata": {},
     "output_type": "execute_result"
    }
   ],
   "source": [
    "# total number of tags\n",
    "NUM_CLASSES = Y.shape[2]\n",
    "NUM_CLASSES"
   ]
  },
  {
   "cell_type": "code",
   "execution_count": 46,
   "id": "designing-jersey",
   "metadata": {},
   "outputs": [],
   "source": [
    "EMBEDDING_SIZE  = 300  #embedding (hidden) size = 300으로 설정 : hyperparameter이지만 word2vec의 dimension에 맞추어 조정\n",
    "VOCABULARY_SIZE = len(word_tokenizer.word_index) + 1 #첫번째 index가 0로 할당되므로 +1해주어야함"
   ]
  },
  {
   "cell_type": "markdown",
   "id": "satellite-fishing",
   "metadata": {},
   "source": [
    "### 1. Without pretrained weight, or update"
   ]
  },
  {
   "cell_type": "code",
   "execution_count": 78,
   "id": "rental-toyota",
   "metadata": {},
   "outputs": [],
   "source": [
    "rnn_model = Sequential()\n",
    "\n",
    "# create embedding layer - usually the first layer in text problems\n",
    "rnn_model.add(Embedding(input_dim     =  VOCABULARY_SIZE,         # vocabulary size - number of unique words in data\n",
    "                        output_dim    =  EMBEDDING_SIZE,          # length of vector with which each word is represented\n",
    "                        input_length  =  MAX_SEQ_LENGTH,          # length of input sequence(100)\n",
    "                        trainable     =  False                    # False - don't update the embeddings\n",
    "))\n",
    "\n",
    "# add an RNN layer which contains 64 hidden RNN cells\n",
    "rnn_model.add(SimpleRNN(64, \n",
    "              return_sequences=True  # True - return whole sequence; False - return single output of the end of the sequence\n",
    "))\n",
    "\n",
    "# add time distributed (output at each sequence) layer\n",
    "rnn_model.add(TimeDistributed(Dense(NUM_CLASSES, activation='softmax')))"
   ]
  },
  {
   "cell_type": "code",
   "execution_count": 79,
   "id": "furnished-bonus",
   "metadata": {},
   "outputs": [],
   "source": [
    "rnn_model.compile(loss      =  'categorical_crossentropy',\n",
    "                  optimizer =  'adam',\n",
    "                  metrics   =  ['acc'])"
   ]
  },
  {
   "cell_type": "code",
   "execution_count": 80,
   "id": "regular-labor",
   "metadata": {},
   "outputs": [
    {
     "name": "stdout",
     "output_type": "stream",
     "text": [
      "Model: \"sequential_4\"\n",
      "_________________________________________________________________\n",
      "Layer (type)                 Output Shape              Param #   \n",
      "=================================================================\n",
      "embedding_3 (Embedding)      (None, 100, 300)          14944800  \n",
      "_________________________________________________________________\n",
      "simple_rnn_3 (SimpleRNN)     (None, 100, 64)           23360     \n",
      "_________________________________________________________________\n",
      "time_distributed_3 (TimeDist (None, 100, 13)           845       \n",
      "=================================================================\n",
      "Total params: 14,969,005\n",
      "Trainable params: 24,205\n",
      "Non-trainable params: 14,944,800\n",
      "_________________________________________________________________\n"
     ]
    }
   ],
   "source": [
    "rnn_model.summary()\n"
   ]
  },
  {
   "cell_type": "code",
   "execution_count": 81,
   "id": "mechanical-frank",
   "metadata": {},
   "outputs": [
    {
     "name": "stdout",
     "output_type": "stream",
     "text": [
      "Epoch 1/10\n",
      "324/324 [==============================] - 25s 75ms/step - loss: 0.7605 - acc: 0.8046 - val_loss: 0.3364 - val_acc: 0.8992\n",
      "Epoch 2/10\n",
      "324/324 [==============================] - 26s 81ms/step - loss: 0.3057 - acc: 0.9069 - val_loss: 0.2352 - val_acc: 0.9275\n",
      "Epoch 3/10\n",
      "324/324 [==============================] - 24s 74ms/step - loss: 0.2209 - acc: 0.9312 - val_loss: 0.1876 - val_acc: 0.9409\n",
      "Epoch 4/10\n",
      "324/324 [==============================] - 24s 74ms/step - loss: 0.1815 - acc: 0.9424 - val_loss: 0.1612 - val_acc: 0.9480\n",
      "Epoch 5/10\n",
      "324/324 [==============================] - 23s 70ms/step - loss: 0.1584 - acc: 0.9486 - val_loss: 0.1454 - val_acc: 0.9522\n",
      "Epoch 6/10\n",
      "324/324 [==============================] - 24s 75ms/step - loss: 0.1436 - acc: 0.9526 - val_loss: 0.1357 - val_acc: 0.9544\n",
      "Epoch 7/10\n",
      "324/324 [==============================] - 22s 68ms/step - loss: 0.1334 - acc: 0.9554 - val_loss: 0.1281 - val_acc: 0.9573\n",
      "Epoch 8/10\n",
      "324/324 [==============================] - 25s 79ms/step - loss: 0.1265 - acc: 0.9573 - val_loss: 0.1226 - val_acc: 0.9588\n",
      "Epoch 9/10\n",
      "324/324 [==============================] - 24s 76ms/step - loss: 0.1208 - acc: 0.9593 - val_loss: 0.1187 - val_acc: 0.9599\n",
      "Epoch 10/10\n",
      "324/324 [==============================] - 23s 71ms/step - loss: 0.1179 - acc: 0.9600 - val_loss: 0.1163 - val_acc: 0.9607\n"
     ]
    }
   ],
   "source": [
    "rnn_training = rnn_model.fit(X_train, Y_train, batch_size=128, epochs=10, validation_data=(X_validation, Y_validation))\n"
   ]
  },
  {
   "cell_type": "code",
   "execution_count": 82,
   "id": "restricted-tours",
   "metadata": {},
   "outputs": [
    {
     "data": {
      "image/png": "[encoded data removed]",
      "text/plain": [
       "<Figure size 432x288 with 1 Axes>"
      ]
     },
     "metadata": {
      "needs_background": "light"
     },
     "output_type": "display_data"
    }
   ],
   "source": [
    "#visualize\n",
    "plt.plot(rnn_training.history['acc'])\n",
    "plt.plot(rnn_training.history['val_acc'])\n",
    "plt.title('model accuracy')\n",
    "plt.ylabel('accuracy')\n",
    "plt.xlabel('epoch')\n",
    "plt.legend(['train', 'validation'], loc=\"lower right\")\n",
    "plt.show()"
   ]
  },
  {
   "cell_type": "markdown",
   "id": "norwegian-steal",
   "metadata": {},
   "source": [
    "### 2. Updated, and pretrained weight"
   ]
  },
  {
   "cell_type": "code",
   "execution_count": 67,
   "id": "proprietary-disaster",
   "metadata": {},
   "outputs": [],
   "source": [
    "# create architecture\n",
    "\n",
    "rnn_pretrained_model = Sequential()\n",
    "\n",
    "# create embedding layer - usually the first layer in text problems\n",
    "rnn_pretrained_model.add(Embedding(input_dim     =  VOCABULARY_SIZE,         # vocabulary size - number of unique words in data\n",
    "                        output_dim    =  EMBEDDING_SIZE,          # length of vector with which each word is represented\n",
    "                        input_length  =  MAX_SEQ_LENGTH,          # length of input sequence\n",
    "                        weights       = [embedding_weights],      # word embedding matrix\n",
    "                        trainable     =  True                     # True - update the embeddings while training\n",
    "))\n",
    "\n",
    "# add an RNN layer which contains 64 RNN cells\n",
    "rnn_pretrained_model.add(SimpleRNN(64, \n",
    "              return_sequences=True  # True - return whole sequence; False - return single output of the end of the sequence\n",
    "))\n",
    "\n",
    "# add time distributed (output at each sequence) layer\n",
    "rnn_pretrained_model.add(TimeDistributed(Dense(NUM_CLASSES, activation='softmax')))"
   ]
  },
  {
   "cell_type": "code",
   "execution_count": 68,
   "id": "gorgeous-recovery",
   "metadata": {},
   "outputs": [],
   "source": [
    "rnn_pretrained_model.compile(loss      =  'categorical_crossentropy',\n",
    "                  optimizer =  'adam',\n",
    "                  metrics   =  ['acc'])"
   ]
  },
  {
   "cell_type": "code",
   "execution_count": 69,
   "id": "corporate-intervention",
   "metadata": {},
   "outputs": [
    {
     "name": "stdout",
     "output_type": "stream",
     "text": [
      "Model: \"sequential_4\"\n",
      "_________________________________________________________________\n",
      "Layer (type)                 Output Shape              Param #   \n",
      "=================================================================\n",
      "embedding_4 (Embedding)      (None, 100, 300)          14944800  \n",
      "_________________________________________________________________\n",
      "simple_rnn_2 (SimpleRNN)     (None, 100, 64)           23360     \n",
      "_________________________________________________________________\n",
      "time_distributed_3 (TimeDist (None, 100, 13)           845       \n",
      "=================================================================\n",
      "Total params: 14,969,005\n",
      "Trainable params: 14,969,005\n",
      "Non-trainable params: 0\n",
      "_________________________________________________________________\n"
     ]
    }
   ],
   "source": [
    "rnn_pretrained_model.summary()\n"
   ]
  },
  {
   "cell_type": "code",
   "execution_count": 51,
   "id": "frank-damage",
   "metadata": {},
   "outputs": [
    {
     "name": "stdout",
     "output_type": "stream",
     "text": [
      "Epoch 1/10\n",
      "324/324 [==============================] - 88s 267ms/step - loss: 0.5231 - acc: 0.9057 - val_loss: 0.0349 - val_acc: 0.9897\n",
      "Epoch 2/10\n",
      "324/324 [==============================] - 84s 258ms/step - loss: 0.0276 - acc: 0.9916 - val_loss: 0.0247 - val_acc: 0.9916\n",
      "Epoch 3/10\n",
      "324/324 [==============================] - 84s 259ms/step - loss: 0.0181 - acc: 0.9939 - val_loss: 0.0223 - val_acc: 0.9921\n",
      "Epoch 4/10\n",
      "324/324 [==============================] - 87s 270ms/step - loss: 0.0145 - acc: 0.9950 - val_loss: 0.0214 - val_acc: 0.9925\n",
      "Epoch 5/10\n",
      "324/324 [==============================] - 88s 272ms/step - loss: 0.0124 - acc: 0.9957 - val_loss: 0.0211 - val_acc: 0.9926\n",
      "Epoch 6/10\n",
      "324/324 [==============================] - 77s 237ms/step - loss: 0.0107 - acc: 0.9962 - val_loss: 0.0211 - val_acc: 0.9926\n",
      "Epoch 7/10\n",
      "324/324 [==============================] - 78s 240ms/step - loss: 0.0098 - acc: 0.9966 - val_loss: 0.0213 - val_acc: 0.9927\n",
      "Epoch 8/10\n",
      "324/324 [==============================] - 80s 248ms/step - loss: 0.0085 - acc: 0.9971 - val_loss: 0.0217 - val_acc: 0.9927\n",
      "Epoch 9/10\n",
      "324/324 [==============================] - 79s 243ms/step - loss: 0.0077 - acc: 0.9974 - val_loss: 0.0224 - val_acc: 0.9926\n",
      "Epoch 10/10\n",
      "324/324 [==============================] - 82s 254ms/step - loss: 0.0066 - acc: 0.9978 - val_loss: 0.0235 - val_acc: 0.9924\n"
     ]
    }
   ],
   "source": [
    "rnn_training = rnn_pretrained_model.fit(X_train, Y_train, batch_size=128, epochs=10, validation_data=(X_validation, Y_validation))\n"
   ]
  },
  {
   "cell_type": "code",
   "execution_count": 52,
   "id": "useful-encyclopedia",
   "metadata": {},
   "outputs": [
    {
     "data": {
      "image/png": "[encoded data removed]",
      "text/plain": [
       "<Figure size 432x288 with 1 Axes>"
      ]
     },
     "metadata": {
      "needs_background": "light"
     },
     "output_type": "display_data"
    }
   ],
   "source": [
    "plt.plot(rnn_training.history['acc'])\n",
    "plt.plot(rnn_training.history['val_acc'])\n",
    "plt.title('model accuracy')\n",
    "plt.ylabel('accuracy')\n",
    "plt.xlabel('epoch')\n",
    "plt.legend(['train', 'validation'], loc=\"lower right\")\n",
    "plt.show()\n"
   ]
  },
  {
   "cell_type": "markdown",
   "id": "sought-processing",
   "metadata": {},
   "source": [
    "## LSTM (pretrained & updating)"
   ]
  },
  {
   "cell_type": "code",
   "execution_count": 53,
   "id": "meaningful-terrorism",
   "metadata": {},
   "outputs": [],
   "source": [
    "# create architecture\n",
    "\n",
    "lstm_model = Sequential()\n",
    "lstm_model.add(Embedding(input_dim     = VOCABULARY_SIZE,         # vocabulary size - number of unique words in data\n",
    "                         output_dim    = EMBEDDING_SIZE,          # length of vector with which each word is represented\n",
    "                         input_length  = MAX_SEQ_LENGTH,          # length of input sequence\n",
    "                         weights       = [embedding_weights],     # word embedding matrix\n",
    "                         trainable     = True                     # True - update embeddings_weight matrix\n",
    "))\n",
    "lstm_model.add(LSTM(64, return_sequences=True))\n",
    "lstm_model.add(TimeDistributed(Dense(NUM_CLASSES, activation='softmax')))"
   ]
  },
  {
   "cell_type": "code",
   "execution_count": 54,
   "id": "worse-maker",
   "metadata": {},
   "outputs": [],
   "source": [
    "lstm_model.compile(loss      =  'categorical_crossentropy',\n",
    "                   optimizer =  'adam',\n",
    "                   metrics   =  ['acc'])"
   ]
  },
  {
   "cell_type": "code",
   "execution_count": 55,
   "id": "informative-brother",
   "metadata": {},
   "outputs": [
    {
     "name": "stdout",
     "output_type": "stream",
     "text": [
      "Model: \"sequential_2\"\n",
      "_________________________________________________________________\n",
      "Layer (type)                 Output Shape              Param #   \n",
      "=================================================================\n",
      "embedding_2 (Embedding)      (None, 100, 300)          14944800  \n",
      "_________________________________________________________________\n",
      "lstm (LSTM)                  (None, 100, 64)           93440     \n",
      "_________________________________________________________________\n",
      "time_distributed_1 (TimeDist (None, 100, 13)           845       \n",
      "=================================================================\n",
      "Total params: 15,039,085\n",
      "Trainable params: 15,039,085\n",
      "Non-trainable params: 0\n",
      "_________________________________________________________________\n"
     ]
    }
   ],
   "source": [
    "lstm_model.summary()\n"
   ]
  },
  {
   "cell_type": "code",
   "execution_count": 56,
   "id": "needed-subscription",
   "metadata": {},
   "outputs": [
    {
     "name": "stdout",
     "output_type": "stream",
     "text": [
      "Epoch 1/10\n",
      "324/324 [==============================] - 105s 319ms/step - loss: 0.7467 - acc: 0.8750 - val_loss: 0.0563 - val_acc: 0.9866\n",
      "Epoch 2/10\n",
      "324/324 [==============================] - 120s 370ms/step - loss: 0.0430 - acc: 0.9891 - val_loss: 0.0295 - val_acc: 0.9906\n",
      "Epoch 3/10\n",
      "324/324 [==============================] - 109s 337ms/step - loss: 0.0239 - acc: 0.9924 - val_loss: 0.0248 - val_acc: 0.9916\n",
      "Epoch 4/10\n",
      "324/324 [==============================] - 104s 321ms/step - loss: 0.0186 - acc: 0.9937 - val_loss: 0.0228 - val_acc: 0.9919\n",
      "Epoch 5/10\n",
      "324/324 [==============================] - 109s 335ms/step - loss: 0.0160 - acc: 0.9943 - val_loss: 0.0218 - val_acc: 0.9923\n",
      "Epoch 6/10\n",
      "324/324 [==============================] - 108s 334ms/step - loss: 0.0140 - acc: 0.9950 - val_loss: 0.0212 - val_acc: 0.9925\n",
      "Epoch 7/10\n",
      "324/324 [==============================] - 106s 328ms/step - loss: 0.0128 - acc: 0.9953 - val_loss: 0.0211 - val_acc: 0.9925\n",
      "Epoch 8/10\n",
      "324/324 [==============================] - 104s 319ms/step - loss: 0.0117 - acc: 0.9957 - val_loss: 0.0209 - val_acc: 0.9927\n",
      "Epoch 9/10\n",
      "324/324 [==============================] - 114s 352ms/step - loss: 0.0106 - acc: 0.9961 - val_loss: 0.0210 - val_acc: 0.9928\n",
      "Epoch 10/10\n",
      "324/324 [==============================] - 124s 383ms/step - loss: 0.0097 - acc: 0.9966 - val_loss: 0.0213 - val_acc: 0.9928\n"
     ]
    }
   ],
   "source": [
    "lstm_training = lstm_model.fit(X_train, Y_train, batch_size=128, epochs=10, validation_data=(X_validation, Y_validation))\n"
   ]
  },
  {
   "cell_type": "code",
   "execution_count": 59,
   "id": "further-luxembourg",
   "metadata": {},
   "outputs": [
    {
     "data": {
      "image/png": "[encoded data removed]",
      "text/plain": [
       "<Figure size 432x288 with 1 Axes>"
      ]
     },
     "metadata": {
      "needs_background": "light"
     },
     "output_type": "display_data"
    }
   ],
   "source": [
    "plt.plot(lstm_training.history['acc'])\n",
    "plt.plot(lstm_training.history['val_acc'])\n",
    "plt.title('model accuracy')\n",
    "plt.ylabel('accuracy')\n",
    "plt.xlabel('epoch')\n",
    "plt.legend(['train', 'validation'], loc=\"lower right\")\n",
    "plt.show()\n"
   ]
  },
  {
   "cell_type": "markdown",
   "id": "cleared-deployment",
   "metadata": {},
   "source": [
    "## Bidirectional LSTM"
   ]
  },
  {
   "cell_type": "code",
   "execution_count": 60,
   "id": "working-batman",
   "metadata": {},
   "outputs": [],
   "source": [
    "bidirect_model = Sequential()\n",
    "bidirect_model.add(Embedding(input_dim     = VOCABULARY_SIZE,\n",
    "                             output_dim    = EMBEDDING_SIZE,\n",
    "                             input_length  = MAX_SEQ_LENGTH,\n",
    "                             weights       = [embedding_weights],\n",
    "                             trainable     = True\n",
    "))\n",
    "bidirect_model.add(Bidirectional(LSTM(64, return_sequences=True)))\n",
    "bidirect_model.add(TimeDistributed(Dense(NUM_CLASSES, activation='softmax')))"
   ]
  },
  {
   "cell_type": "code",
   "execution_count": 61,
   "id": "hawaiian-uncle",
   "metadata": {},
   "outputs": [],
   "source": [
    "bidirect_model.compile(loss='categorical_crossentropy',\n",
    "              optimizer='adam',\n",
    "              metrics=['acc'])"
   ]
  },
  {
   "cell_type": "code",
   "execution_count": 62,
   "id": "killing-terminology",
   "metadata": {},
   "outputs": [
    {
     "name": "stdout",
     "output_type": "stream",
     "text": [
      "Model: \"sequential_3\"\n",
      "_________________________________________________________________\n",
      "Layer (type)                 Output Shape              Param #   \n",
      "=================================================================\n",
      "embedding_3 (Embedding)      (None, 100, 300)          14944800  \n",
      "_________________________________________________________________\n",
      "bidirectional (Bidirectional (None, 100, 128)          186880    \n",
      "_________________________________________________________________\n",
      "time_distributed_2 (TimeDist (None, 100, 13)           1677      \n",
      "=================================================================\n",
      "Total params: 15,133,357\n",
      "Trainable params: 15,133,357\n",
      "Non-trainable params: 0\n",
      "_________________________________________________________________\n"
     ]
    }
   ],
   "source": [
    "bidirect_model.summary() #parameter for bidirectional = 2 times original LSTM"
   ]
  },
  {
   "cell_type": "code",
   "execution_count": 63,
   "id": "explicit-weekly",
   "metadata": {},
   "outputs": [
    {
     "name": "stdout",
     "output_type": "stream",
     "text": [
      "Epoch 1/15\n",
      "324/324 [==============================] - 157s 476ms/step - loss: 0.6494 - acc: 0.8698 - val_loss: 0.0332 - val_acc: 0.9909\n",
      "Epoch 2/15\n",
      "324/324 [==============================] - 148s 456ms/step - loss: 0.0260 - acc: 0.9928 - val_loss: 0.0191 - val_acc: 0.9941\n",
      "Epoch 3/15\n",
      "324/324 [==============================] - 163s 502ms/step - loss: 0.0141 - acc: 0.9958 - val_loss: 0.0160 - val_acc: 0.9949\n",
      "Epoch 4/15\n",
      "324/324 [==============================] - 167s 515ms/step - loss: 0.0101 - acc: 0.9969 - val_loss: 0.0148 - val_acc: 0.9952\n",
      "Epoch 5/15\n",
      "324/324 [==============================] - 162s 500ms/step - loss: 0.0079 - acc: 0.9975 - val_loss: 0.0142 - val_acc: 0.9954\n",
      "Epoch 6/15\n",
      "324/324 [==============================] - 174s 538ms/step - loss: 0.0065 - acc: 0.9980 - val_loss: 0.0141 - val_acc: 0.9955\n",
      "Epoch 7/15\n",
      "324/324 [==============================] - 163s 503ms/step - loss: 0.0053 - acc: 0.9984 - val_loss: 0.0141 - val_acc: 0.9956\n",
      "Epoch 8/15\n",
      "324/324 [==============================] - 171s 528ms/step - loss: 0.0042 - acc: 0.9987 - val_loss: 0.0146 - val_acc: 0.9955\n",
      "Epoch 9/15\n",
      "324/324 [==============================] - 166s 513ms/step - loss: 0.0033 - acc: 0.9990 - val_loss: 0.0151 - val_acc: 0.9954\n",
      "Epoch 10/15\n",
      "324/324 [==============================] - 161s 496ms/step - loss: 0.0027 - acc: 0.9992 - val_loss: 0.0159 - val_acc: 0.9954\n",
      "Epoch 11/15\n",
      "324/324 [==============================] - 174s 536ms/step - loss: 0.0021 - acc: 0.9994 - val_loss: 0.0165 - val_acc: 0.9953\n",
      "Epoch 12/15\n",
      "324/324 [==============================] - 171s 527ms/step - loss: 0.0017 - acc: 0.9996 - val_loss: 0.0175 - val_acc: 0.9952\n",
      "Epoch 13/15\n",
      "324/324 [==============================] - 208s 644ms/step - loss: 0.0013 - acc: 0.9997 - val_loss: 0.0183 - val_acc: 0.9952\n",
      "Epoch 14/15\n",
      "324/324 [==============================] - 170s 524ms/step - loss: 9.7912e-04 - acc: 0.9998 - val_loss: 0.0192 - val_acc: 0.9951\n",
      "Epoch 15/15\n",
      "324/324 [==============================] - 147s 453ms/step - loss: 7.6851e-04 - acc: 0.9998 - val_loss: 0.0202 - val_acc: 0.9951\n"
     ]
    }
   ],
   "source": [
    "bidirect_training = bidirect_model.fit(X_train, Y_train, batch_size=128, epochs=15, validation_data=(X_validation, Y_validation))"
   ]
  },
  {
   "cell_type": "markdown",
   "id": "temporal-danger",
   "metadata": {},
   "source": [
    "## Model Evaluation"
   ]
  },
  {
   "cell_type": "markdown",
   "id": "exposed-colors",
   "metadata": {},
   "source": [
    "### vanilla RNN"
   ]
  },
  {
   "cell_type": "code",
   "execution_count": 70,
   "id": "sonic-repeat",
   "metadata": {},
   "outputs": [
    {
     "name": "stdout",
     "output_type": "stream",
     "text": [
      "269/269 [==============================] - 4s 12ms/step - loss: 2.5780 - acc: 0.8116\n",
      "Loss: 2.5779335498809814,\n",
      "Accuracy: 0.8109847903251648\n"
     ]
    }
   ],
   "source": [
    "loss, accuracy = rnn_pretrained_model.evaluate(X_test, Y_test, verbose = 1)\n",
    "print(\"Loss: {0},\\nAccuracy: {1}\".format(loss, accuracy))\n"
   ]
  },
  {
   "cell_type": "markdown",
   "id": "decreased-rochester",
   "metadata": {},
   "source": [
    "### LSTM"
   ]
  },
  {
   "cell_type": "code",
   "execution_count": 65,
   "id": "subject-trinidad",
   "metadata": {},
   "outputs": [
    {
     "name": "stdout",
     "output_type": "stream",
     "text": [
      "269/269 [==============================] - 7s 25ms/step - loss: 0.0214 - acc: 0.9928\n",
      "Loss: 0.021446488797664642,\n",
      "Accuracy: 0.99281245470047\n"
     ]
    }
   ],
   "source": [
    "loss, accuracy = lstm_model.evaluate(X_test, Y_test, verbose = 1)\n",
    "print(\"Loss: {0},\\nAccuracy: {1}\".format(loss, accuracy))"
   ]
  },
  {
   "cell_type": "markdown",
   "id": "expanded-conversation",
   "metadata": {},
   "source": [
    "### Bidirectional LSTM"
   ]
  },
  {
   "cell_type": "code",
   "execution_count": 66,
   "id": "active-medicaid",
   "metadata": {},
   "outputs": [
    {
     "name": "stdout",
     "output_type": "stream",
     "text": [
      "269/269 [==============================] - 10s 37ms/step - loss: 0.0207 - acc: 0.9950\n",
      "Loss: 0.020709825679659843,\n",
      "Accuracy: 0.9949854612350464\n"
     ]
    }
   ],
   "source": [
    "loss, accuracy = bidirect_model.evaluate(X_test, Y_test, verbose = 1)\n",
    "print(\"Loss: {0},\\nAccuracy: {1}\".format(loss, accuracy))"
   ]
  },
  {
   "cell_type": "markdown",
   "id": "extra-stick",
   "metadata": {},
   "source": [
    "\n",
    "\n",
    "Accuracy:\n",
    "1. Bidirectional LSTM\n",
    "2. LSTM\n",
    "3. Vanilla RNN\n",
    "\n",
    "Loss:\n",
    "1. Bidirectional LSTM\n",
    "2. LSTM\n",
    "3. Vanilla RNN "
   ]
  },
  {
   "cell_type": "markdown",
   "id": "choice-nigeria",
   "metadata": {},
   "source": [
    "전체적으로 accuracy와 loss에서 Bidirectional LSTM이 가장 효율적이라는 결론이 나왔다."
   ]
  },
  {
   "cell_type": "code",
   "execution_count": null,
   "id": "suited-printer",
   "metadata": {},
   "outputs": [],
   "source": []
  }
 ],
 "metadata": {
  "kernelspec": {
   "display_name": "Python 3",
   "language": "python",
   "name": "python3"
  },
  "language_info": {
   "codemirror_mode": {
    "name": "ipython",
    "version": 3
   },
   "file_extension": ".py",
   "mimetype": "text/x-python",
   "name": "python",
   "nbconvert_exporter": "python",
   "pygments_lexer": "ipython3",
   "version": "3.6.12"
  }
 },
 "nbformat": 4,
 "nbformat_minor": 5
}
